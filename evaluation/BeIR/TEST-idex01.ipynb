{
 "cells": [
  {
   "cell_type": "code",
   "execution_count": 1,
   "metadata": {},
   "outputs": [
    {
     "name": "stdout",
     "output_type": "stream",
     "text": [
      "/Users/chinmayshrivastava/Documents/GitHub/RepoStateManager\n"
     ]
    }
   ],
   "source": [
    "import sys\n",
    "import os\n",
    "\n",
    "# move two directories up and make that current directory\n",
    "os.chdir(\"../..\")\n",
    "# print current directory\n",
    "print(os.getcwd())"
   ]
  },
  {
   "cell_type": "code",
   "execution_count": 2,
   "metadata": {},
   "outputs": [
    {
     "name": "stderr",
     "output_type": "stream",
     "text": [
      "INFO:modules.vectorgraph.VectorGraph:Loading graph from persisting directory\n",
      "INFO:chromadb.telemetry.product.posthog:Anonymized telemetry enabled. See                     https://docs.trychroma.com/telemetry for more information.\n",
      "INFO:modules.vectorgraph.VectorGraph:Graph loaded from evaluation/BeIR/idex01\n",
      "INFO:modules.vectorgraph.VectorGraph:Vector index loaded from evaluation/BeIR/idex01\n"
     ]
    }
   ],
   "source": [
    "from modules.vectorgraph.VectorGraph import VectorGraph\n",
    "\n",
    "vg = VectorGraph.from_persisting_dir(\n",
    "    persisting_dir=\"evaluation/BeIR/idex01\"\n",
    ")"
   ]
  },
  {
   "cell_type": "code",
   "execution_count": 5,
   "metadata": {},
   "outputs": [
    {
     "name": "stderr",
     "output_type": "stream",
     "text": [
      "INFO:httpx:HTTP Request: POST https://api.openai.com/v1/embeddings \"HTTP/1.1 200 OK\"\n"
     ]
    },
    {
     "data": {
      "text/plain": [
       "[('7681810',\n",
       "  'NuSAP is essential for chromatin-induced spindle formation during early embryogenesis. Mitotic spindle assembly is mediated by two processes: a centrosomal and a chromosomal pathway. RanGTP regulates the latter process by releasing microtubule-associated proteins from inhibitory complexes. NuSAP, a microtubule- and DNA-binding protein, is a target of RanGTP and promotes the formation of microtubules near chromosomes. However, the contribution of NuSAP to cell proliferation in vivo is unknown. Here, we demonstrate that the expression of NuSAP highly correlates with cell proliferation during embryogenesis and adult life, making it a reliable marker of proliferating cells. Additionally, we show that NuSAP deficiency in mice leads to early embryonic lethality. Spindle assembly in NuSAP-deficient cells is highly inefficient and chromosomes remain dispersed in the mitotic cytoplasm. As a result of sustained spindle checkpoint activity, the cells are unable to progress through mitosis, eventually leading to caspase activation and apoptotic cell death. Together, our findings demonstrate that NuSAP is essential for proliferation of embryonic cells and, simultaneously, they underscore the importance of chromatin-induced spindle assembly.'),\n",
       " ('6085365',\n",
       "  'Physician knowledge levels and barriers to coronary risk prevention in women: survey results from the Women and Heart Disease Physician Education Initiative. BACKGROUND Few studies have examined whether physician knowledge, attitudes, or practice patterns might contribute to gender disparities in the primary prevention of coronary heart disease (CHD), including among physicians caring for the largest number of reproductive-age women, obstetricians and gynecologists (OB/GYNs). We sought to identify barriers affecting the provision of recommended coronary risk factor therapies in women. METHODS We surveyed internists and OB/GYNs who attended Grand Rounds presentations developed for the New York State Women and Heart Disease Physician Education Initiative. This program was designed to improve screening and management of coronary risk factors in women. Attendees were asked to complete a 7-minute questionnaire. RESULTS The mean age of the 529 respondents was 40.3 years (standard deviation = 12.3), 75.1% were internists (n=378), and 42.7% (n=226) were women. Physicians correctly responded to 71.5% of the 13 questions assessing knowledge of coronary risk prevention (range, 4-13). Almost one third of internists and half of the OB/GYNs did not know that tobacco use was the leading cause of myocardial infarction in young women. For patients who smoked tobacco, only two thirds of internists and 55.4% of OB/GYNs reported suggesting a quit date (p=.007). After controlling for covariates, physicians who did not perceive time as a barrier were more likely to discuss smoking cessation (odds ratio=1.7 [1.1-2.7]). CONCLUSIONS Among the internists and OB/GYNs surveyed, time was perceived as a barrier to implementing risk prevention. These physicians also underestimated the impact of tobacco use as a risk factor for CHD in young women. To lessen gender disparities in CHD prevention, both specialties need time-efficient educational programs that reflect specialty differences.'),\n",
       " ('13481731',\n",
       "  'Gender, age, and heart failure with preserved left ventricular systolic function. OBJECTIVES This study was designed to determine if women are more likely than men to have heart failure (HF) with preserved systolic function after adjustment for potential confounders, including age. BACKGROUND Although prior evidence suggests an independent association between female gender and preserved left ventricular systolic function (LVSF) in patients with HF, existing studies are limited by referral biases, small sample sizes, or the inability to adjust for a wide range of potential confounding variables. METHODS This is a cross-sectional study using data from retrospective medical chart abstraction of a national sample of Medicare beneficiaries hospitalized with the principal discharge diagnosis of HF in acute-care nongovernmental hospitals in the U.S. between April 1998 and March 1999. Patients were eligible for this analysis if they were age 65 years or older, had documentation of LVSF, and corroboration of the diagnosis of HF. We used multivariable logistic regression to identify the correlates of preserved LVSF, which was defined as qualitatively normal function or quantitatively reported ejection fraction > or =0.50. Stratified regressions by gender were performed to identify significant interactions. RESULTS Of the 19,710 patients in the analysis, preserved LVSF was present in 6,700 (35%), 79% of whom were women. In contrast, among the 12,956 patients with impaired LVSF, only 49% were women. Patients with preserved LVSF were 1.5 years older than those with impaired LVSF. After adjustment for age and other patient factors, female gender remained strongly associated with preserved LVSF (calculated risk ratio = 1.71; 95% confidence interval 1.63 to 1.78). The association was consistent in all age groups, and was similar in patients with or without coronary artery disease, hypertension, pulmonary disease, renal insufficiency, or atrial fibrillation. CONCLUSIONS In elderly patients hospitalized with HF, preserved systolic function is primarily a condition of women, independent of important demographic and clinical characteristics.'),\n",
       " ('12271486',\n",
       "  'MotifMap: integrative genome-wide maps of regulatory motif sites for model species BACKGROUND A central challenge of biology is to map and understand gene regulation on a genome-wide scale. For any given genome, only a small fraction of the regulatory elements embedded in the DNA sequence have been characterized, and there is great interest in developing computational methods to systematically map all these elements and understand their relationships. Such computational efforts, however, are significantly hindered by the overwhelming size of non-coding regions and the statistical variability and complex spatial organizations of regulatory elements and interactions. Genome-wide catalogs of regulatory elements for all model species simply do not yet exist. RESULTS The MotifMap system uses databases of transcription factor binding motifs, refined genome alignments, and a comparative genomic statistical approach to provide comprehensive maps of candidate regulatory elements encoded in the genomes of model species. The system is used to derive new genome-wide maps for yeast, fly, worm, mouse, and human. The human map contains 519,108 sites for 570 matrices with a False Discovery Rate of 0.1 or less. The new maps are assessed in several ways, for instance using high-throughput experimental ChIP-seq data and AUC statistics, providing strong evidence for their accuracy and coverage. The maps can be usefully integrated with many other kinds of omic data and are available at http://motifmap.igb.uci.edu/.   CONCLUSIONS MotifMap and its integration with other data provide a foundation for analyzing gene regulation on a genome-wide scale, and for automatically generating regulatory pathways and hypotheses. The power of this approach is demonstrated and discussed using the P53 apoptotic pathway and the Gli hedgehog pathways as examples.'),\n",
       " ('11861374',\n",
       "  'Occurrence of chromosome 9 and p53 alterations in multifocal dysplasia and carcinoma in situ of human urinary bladder To define the genetic changes of flat urothelial lesions, carcinoma in situ (CIS) and moderate dysplasias (DII) were investigated for alterations in the two chromosomal regions most frequently involved in bladder cancer. Overall, 33 CIS and 16 DII from 21 patients were used to microdissect urothelium. Dual color fluorescence in situ hybridization (FISH) using gene locus probes of 9q22 (FACC), 9p21 (CDK), 17p13 (p53), and related centromeric probes was applied on interphase nuclei. In parallel, preamplified DNA of these samples was used for loss of heterozygosity (LOH) analyses with eight microsatellite markers on chromosomes 9p, 9q and 17p, and for sequencing of exons 5-9 of p53. Data indicated nearly identical deletion frequencies for chromosomes 9 and 17 for CIS (chromosome 9, 86%; p53, 84%). DII showed a lower deletion rate in comparison with CIS (chromosome 9, 75%; p53, 53%). A very high correlation between the results of FISH and LOH analyses was found. p53 mutations were detected in 12 of 15 patients (CIS, 72%; DII, 67%). In three of 16 patients with multifocal tumors, oligoclonal lesions were identified by LOH analyses, a finding further supported by sequencing of p53, by which two different p53 deletions were detected in two cases. In conclusion, data from microdissected flat urothelial lesions indicate that chromosome 9 deletions cannot be regarded as indicators of papillary growth, because they are found frequently in both types of flat lesions of the urothelium: those associated with papillary tumors and those that are not. The similar distribution and lower amount of genetic changes in DII render DII a possible precursor lesion of CIS.'),\n",
       " ('24879055',\n",
       "  'Distinct memory CD4+ T cells with commitment to T follicular helper- and T helper 1-cell lineages are generated after acute viral infection. CD4(+) T follicular helper (Tfh) cells provide the required signals to B cells for germinal center reactions that are necessary for long-lived antibody responses. However, it remains unclear whether there are CD4(+) memory T cells committed to the Tfh cell lineage after antigen clearance. By using adoptive transfer of antigen-specific memory CD4(+) T cell subpopulations in the lymphocytic choriomeningitis virus infection model, we found that there are distinct memory CD4(+) T cell populations with commitment to either Tfh- or Th1-cell lineages. Our conclusions are based on gene expression profiles, epigenetic studies, and phenotypic and functional analyses. Our findings indicate that CD4(+) memory T cells \"remember\" their previous effector lineage after antigen clearance, being poised to reacquire their lineage-specific effector functions upon antigen reencounter. These findings have important implications for rational vaccine design, where improving the generation and engagement of memory Tfh cells could be used to enhance vaccine-induced protective immunity.'),\n",
       " ('4421746',\n",
       "  'Genome-wide genetic analysis of polyploidy in yeast Polyploidy, increased sets of chromosomes, occurs during development, cellular stress, disease and evolution. Despite its prevalence, little is known about the physiological alterations that accompany polyploidy. We previously described ‘ploidy-specific lethality’, where a gene deletion that is not lethal in haploid or diploid budding yeast causes lethality in triploids or tetraploids. Here we report a genome-wide screen to identify ploidy-specific lethal functions. Only 39 out of 3,740 mutations screened exhibited ploidy-specific lethality. Almost all of these mutations affect genomic stability by impairing homologous recombination, sister chromatid cohesion, or mitotic spindle function. We uncovered defects in wild-type tetraploids predicted by the screen, and identified mechanisms by which tetraploidization affects genomic stability. We show that tetraploids have a high incidence of syntelic/monopolar kinetochore attachments to the spindle pole. We suggest that this defect can be explained by mismatches in the ability to scale the size of the spindle pole body, spindle and kinetochores. Thus, geometric constraints may have profound effects on genome stability; the phenomenon described here may be relevant in a variety of biological contexts, including disease states such as cancer.')]"
      ]
     },
     "execution_count": 5,
     "metadata": {},
     "output_type": "execute_result"
    }
   ],
   "source": [
    "vg.query_with_chunk_ids(\"How many UK have abnormal PrP positivity.\", top_k=20)"
   ]
  },
  {
   "cell_type": "code",
   "execution_count": 6,
   "metadata": {},
   "outputs": [
    {
     "name": "stderr",
     "output_type": "stream",
     "text": [
      "INFO:httpx:HTTP Request: POST https://api.openai.com/v1/embeddings \"HTTP/1.1 200 OK\"\n",
      "INFO:httpx:HTTP Request: POST https://api.openai.com/v1/chat/completions \"HTTP/1.1 200 OK\"\n"
     ]
    },
    {
     "data": {
      "text/plain": [
       "'The query cannot be answered based on the given excerpts from the documents.'"
      ]
     },
     "execution_count": 6,
     "metadata": {},
     "output_type": "execute_result"
    }
   ],
   "source": [
    "vg.generate_response(\"How many UK have abnormal PrP positivity.\")"
   ]
  },
  {
   "cell_type": "code",
   "execution_count": null,
   "metadata": {},
   "outputs": [],
   "source": []
  }
 ],
 "metadata": {
  "kernelspec": {
   "display_name": "venv",
   "language": "python",
   "name": "python3"
  },
  "language_info": {
   "codemirror_mode": {
    "name": "ipython",
    "version": 3
   },
   "file_extension": ".py",
   "mimetype": "text/x-python",
   "name": "python",
   "nbconvert_exporter": "python",
   "pygments_lexer": "ipython3",
   "version": "3.11.5"
  }
 },
 "nbformat": 4,
 "nbformat_minor": 2
}
