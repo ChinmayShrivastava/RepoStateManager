{
 "cells": [
  {
   "cell_type": "code",
   "execution_count": 18,
   "metadata": {},
   "outputs": [
    {
     "name": "stdout",
     "output_type": "stream",
     "text": [
      "DiGraph with 1602 nodes and 5138 edges\n"
     ]
    }
   ],
   "source": [
    "import pickle\n",
    "repo_id = '8be9bce0-afe1-4ee2-a838-d11a28252849'\n",
    "G = pickle.load(open(repo_id+'/state_0.pkl', 'rb'))\n",
    "print(G)"
   ]
  },
  {
   "cell_type": "code",
   "execution_count": 19,
   "metadata": {},
   "outputs": [
    {
     "data": {
      "text/plain": [
       "{'name': '__init__',\n",
       " 'type': 'method',\n",
       " 'start_line': 6,\n",
       " 'end_line': 24,\n",
       " 'explanation': 'The code snippet is a constructor for a class. It takes in two optional parameters: \"content\" which is a string and \"log\" which can be any type of data. \\n\\nThe constructor first calls the constructor of the parent class with the \"content\" parameter, after stripping any leading or trailing whitespace from the content.\\n\\nIf the \"log\" parameter is provided, it logs a warning message indicating that the parameter is deprecated and suggests using the \"logging\" module instead.\\n\\nIf the length of the content is less than 2 characters, it logs an error message and sets the internal variables to empty values.\\n\\nIf the content has at least 2 characters, it assigns the first character to the \"_first\" variable, the last character to the \"_last\" variable, and assigns the content between the first and last characters to the \"_value\" variable.'}"
      ]
     },
     "execution_count": 19,
     "metadata": {},
     "output_type": "execute_result"
    }
   ],
   "source": [
    "# G.nodes(data=True)['Superagent']\n",
    "# for edge in G.edges('BaseOpenAIAgent', data=True):\n",
    "#     print(edge)\n",
    "#     break\n",
    "\n",
    "G.nodes(data=True)['__init__']"
   ]
  },
  {
   "cell_type": "code",
   "execution_count": 20,
   "metadata": {},
   "outputs": [
    {
     "name": "stdout",
     "output_type": "stream",
     "text": [
      "__init__\n",
      "ValBlock\n",
      "StepwisePlannerConfig\n",
      "OpenApiRunner\n",
      "Kernel\n",
      "Plan\n",
      "HuggingFaceTextCompletion\n",
      "WeaviateMemoryStore\n",
      "VolatileMemoryStore\n",
      "RestApiOperation\n",
      "MemoryQueryResult\n",
      "MemoryRecord\n",
      "GooglePalmTextCompletion\n",
      "ChromaMemoryStore\n",
      "SKContext\n",
      "AzureChatCompletion\n",
      "GoogleConnector\n",
      "KernelException\n",
      "SKEventArgs\n",
      "SequentialPlannerConfig\n",
      "GooglePalmChatCompletion\n",
      "GooglePalmTextEmbedding\n",
      "USearchMemoryStore\n",
      "AIException\n",
      "PreparedRestApiRequest\n",
      "SequentialPlanner\n",
      "ConversationSummarySkill\n",
      "RedisMemoryStore\n",
      "AzureOpenAIConfigBase\n",
      "StepwisePlanner\n",
      "SKFunction\n",
      "Block\n",
      "FunctionInvokedEventArgs\n",
      "FunctionView\n",
      "PineconeMemoryStore\n",
      "AzureCognitiveSearchMemoryStore\n",
      "MongoDBAtlasMemoryStore\n",
      "FunctionIdBlock\n",
      "SemanticTextMemory\n",
      "TempWebSearchEngineSkill\n",
      "PostgresMemoryStore\n",
      "QdrantMemoryStore\n",
      "CodeTokenizer\n",
      "TemplateTokenizer\n",
      "OpenAIConfigBase\n",
      "ContextVariables\n",
      "OpenAITextCompletion\n",
      "BingConnector\n",
      "AzureTextCompletion\n",
      "ChatPromptTemplate\n",
      "MongoStoreApi\n",
      "MilvusMemoryStore\n",
      "ActionPlannerConfig\n",
      "PromptTemplate\n",
      "OpenApiParser\n",
      "HuggingFaceTextEmbedding\n",
      "VarBlock\n",
      "AzureCosmosDBMemoryStore\n",
      "PlanningException\n",
      "SkillCollection\n",
      "PromptTemplateEngine\n",
      "WebSearchEngineSkill\n",
      "ActionPlanner\n",
      "AzureTextEmbedding\n",
      "CodeBlock\n",
      "OpenAIChatCompletion\n",
      "OpenAITextEmbedding\n",
      "AzureChatWithDataStreamResponse\n",
      "NullLogger\n",
      "FunctionInvokingEventArgs\n",
      "ReadOnlySkillCollection\n"
     ]
    }
   ],
   "source": [
    "# for nodes with type method\n",
    "for n in G.nodes(data=True):\n",
    "    try:\n",
    "        if n[1]['type'] == 'method':\n",
    "            # get the predecessors\n",
    "            preds = G.predecessors(n[0])\n",
    "            print(n[0])\n",
    "            [print(G.nodes[p]['name']) for p in preds]\n",
    "            break\n",
    "    except:\n",
    "        pass"
   ]
  },
  {
   "cell_type": "code",
   "execution_count": 21,
   "metadata": {},
   "outputs": [
    {
     "data": {
      "text/plain": [
       "813"
      ]
     },
     "execution_count": 21,
     "metadata": {},
     "output_type": "execute_result"
    }
   ],
   "source": [
    "import os\n",
    "from chromadb import PersistentClient, HttpClient\n",
    "from chromadb.utils import embedding_functions\n",
    "from dotenv import load_dotenv\n",
    "load_dotenv()\n",
    "\n",
    "def return_collection(path=None, collection_name=None):\n",
    "    assert path is not None, \"Path isn't specified\"\n",
    "    assert collection_name is not None, \"Collection name isn't specified\"\n",
    "    chroma_client = PersistentClient(path=path)\n",
    "    emb_fn = embedding_functions.OpenAIEmbeddingFunction(\n",
    "        api_key=os.getenv('OPENAI_API_KEY'),\n",
    "        model_name=\"text-embedding-ada-002\"\n",
    "    )\n",
    "    collection = chroma_client.get_or_create_collection(name=collection_name, embedding_function=emb_fn, metadata={\"hnsw:space\": \"cosine\"})\n",
    "    return collection\n",
    "\n",
    "path_ = f\"{repo_id}/meta/storage\"\n",
    "explanations = return_collection(path=path_, collection_name=\"explanations\")\n",
    "explanations.count()"
   ]
  },
  {
   "cell_type": "code",
   "execution_count": 22,
   "metadata": {},
   "outputs": [
    {
     "data": {
      "text/plain": [
       "583"
      ]
     },
     "execution_count": 22,
     "metadata": {},
     "output_type": "execute_result"
    }
   ],
   "source": [
    "code = return_collection(path=path_, collection_name=\"code\")\n",
    "code.count()"
   ]
  },
  {
   "cell_type": "code",
   "execution_count": 23,
   "metadata": {},
   "outputs": [
    {
     "data": {
      "text/plain": [
       "5138"
      ]
     },
     "execution_count": 23,
     "metadata": {},
     "output_type": "execute_result"
    }
   ],
   "source": [
    "triplets = return_collection(path=path_, collection_name=\"triplets\")\n",
    "triplets.count()"
   ]
  },
  {
   "cell_type": "code",
   "execution_count": 24,
   "metadata": {},
   "outputs": [
    {
     "data": {
      "text/plain": [
       "[['Plan class-instance skills',\n",
       "  'Kernel class-instance type',\n",
       "  'Plan class-method parameters',\n",
       "  'Plan class-method invoke',\n",
       "  'ActionPlanner class-instance skills',\n",
       "  'Plan class-method function',\n",
       "  'Plan class-method name',\n",
       "  'FunctionCall class-instance name',\n",
       "  'Plan class-method description',\n",
       "  'test_can_be_imported class-instance skills']]"
      ]
     },
     "execution_count": 24,
     "metadata": {},
     "output_type": "execute_result"
    }
   ],
   "source": [
    "query = \"What roles can the role attribute of a class take?\"\n",
    "res = triplets.query(\n",
    "    query_texts=[query],\n",
    "    n_results=10\n",
    ")\n",
    "[r for r in res['documents']]"
   ]
  },
  {
   "cell_type": "code",
   "execution_count": 25,
   "metadata": {},
   "outputs": [
    {
     "data": {
      "text/plain": [
       "[[{'containedin': '@@tests@@unit@@test_serialization.py',\n",
       "   'index': '2',\n",
       "   'name': 'TestModel',\n",
       "   'type': 'class'},\n",
       "  {'containedin': '@@semantic_kernel@@orchestration@@delegate_types.py',\n",
       "   'index': '0',\n",
       "   'name': 'DelegateTypes',\n",
       "   'type': 'class'},\n",
       "  {'containedin': '@@tests@@unit@@skill_definition@@test_sk_function_decorators.py',\n",
       "   'index': '0',\n",
       "   'name': 'MiscClass',\n",
       "   'type': 'class'},\n",
       "  {'containedin': '@@semantic_kernel@@skill_definition@@read_only_skill_collection.py',\n",
       "   'index': '0',\n",
       "   'name': 'ReadOnlySkillCollection',\n",
       "   'type': 'class'},\n",
       "  {'containedin': '@@semantic_kernel@@connectors@@memory@@weaviate@@weaviate_memory_store.py',\n",
       "   'index': '2',\n",
       "   'name': 'FieldMapper',\n",
       "   'type': 'class'},\n",
       "  {'containedin': '@@semantic_kernel@@connectors@@memory@@weaviate@@weaviate_memory_store.py',\n",
       "   'index': '0',\n",
       "   'name': 'WeaviateConfig',\n",
       "   'type': 'class'},\n",
       "  {'containedin': '@@semantic_kernel@@skill_definition@@skill_collection.py',\n",
       "   'index': '0',\n",
       "   'name': 'SkillCollection',\n",
       "   'type': 'class'},\n",
       "  {'containedin': '@@semantic_kernel@@connectors@@memory@@weaviate@@weaviate_memory_store.py',\n",
       "   'index': '1',\n",
       "   'name': 'WeaviateMemoryStore',\n",
       "   'type': 'class'},\n",
       "  {'containedin': '@@semantic_kernel@@planning@@stepwise_planner@@system_step.py',\n",
       "   'index': '0',\n",
       "   'name': 'SystemStep',\n",
       "   'type': 'class'},\n",
       "  {'containedin': '@@tests@@unit@@test_serialization.py',\n",
       "   'index': '7',\n",
       "   'name': 'my_function_async',\n",
       "   'type': 'function'}]]"
      ]
     },
     "execution_count": 25,
     "metadata": {},
     "output_type": "execute_result"
    }
   ],
   "source": [
    "query = \"What roles can the role attribute of a class take?\"\n",
    "res = code.query(\n",
    "    query_texts=[query],\n",
    "    n_results=10\n",
    ")\n",
    "[r for r in res['metadatas']]"
   ]
  },
  {
   "cell_type": "code",
   "execution_count": 14,
   "metadata": {},
   "outputs": [
    {
     "data": {
      "text/plain": [
       "[[[{'name': 'MessageRole', 'type': 'class'},\n",
       "   {'name': 'ChatCompletionMessage', 'type': 'class'},\n",
       "   {'name': 'ChatMessage', 'type': 'class'},\n",
       "   {'name': 'Element', 'type': 'class'},\n",
       "   {'name': 'Models', 'type': 'class'},\n",
       "   {'name': 'TestSchema', 'type': 'class'},\n",
       "   {'name': 'ObjectType', 'type': 'class'},\n",
       "   {'name': 'FooSchema', 'type': 'class'},\n",
       "   {'name': 'AttrDict', 'type': 'class'},\n",
       "   {'name': 'NodeRelationship', 'type': 'class'}]],\n",
       " [['The code snippet defines a class called \"MessageRole\" that inherits from the \"str\" class and the \"Enum\" class. It represents different roles that a message can have, such as \"system\", \"user\", \"assistant\", \"function\", and \"tool\".',\n",
       "   'The code snippet defines a class called ChatCompletionMessage. It has three attributes: \"role\" which is a string, \"content\" which is an optional string, and \"user\" which is a string but not required.',\n",
       "   'The code defines a class called ChatMessage. It has three attributes: role, content, and additional_kwargs. The role attribute is of type MessageRole and is set to the default value of MessageRole.USER. The content attribute is of type Any and is set to an empty string by default. The additional_kwargs attribute is a dictionary with a default value of an empty dictionary. \\n\\nThe code also defines a method called __str__ for the ChatMessage class, but the implementation of the method is not provided in the code snippet.',\n",
       "   'The code snippet defines a class called \"Element\" which is a subclass of \"BaseModel\". The class has several attributes including \"id\", \"type\", \"element\", \"title_level\", \"table_output\", and \"table\". Some of these attributes have default values. The class also has a nested class called \"Config\" which allows for arbitrary types to be used as attribute values.',\n",
       "   'The code defines a class called \"Models\" that inherits from the \"str\" class and the \"Enum\" class. It contains four string attributes, each representing a different model: \"TITAN_EMBEDDING\", \"TITAN_EMBEDDING_G1_TEXT_02\", \"COHERE_EMBED_ENGLISH_V3\", and \"COHERE_EMBED_MULTILINGUAL_V3\". These attributes can be used to refer to specific models within the code.',\n",
       "   'The code defines a class called TestSchema that inherits from the BaseModel class. TestSchema has two attributes, x and y, both of which are integers.',\n",
       "   'The code defines a class called \"ObjectType\" that inherits from the \"str\" class and the \"Enum\" class. It also uses the \"auto()\" function to automatically assign unique values to each attribute of the class. The attributes of the class represent different types of objects, such as text, image, index, and document.',\n",
       "   'The code snippet defines a class called FooSchema that inherits from the BaseModel class. The class has two attributes, arg1 and arg2, which are of type str and int respectively.',\n",
       "   'The code snippet defines a class called AttrDict that inherits from the BaseModel class. The AttrDict class has two attributes: test_attr, which is a string, and foo, which is an integer.',\n",
       "   'The code defines a class called \"NodeRelationship\" that inherits from the \"str\" class and the \"Enum\" class. It represents different relationships between nodes in a document. The class has five attributes: \"SOURCE\", \"PREVIOUS\", \"NEXT\", \"PARENT\", and \"CHILD\", which represent different types of relationships. Each attribute is assigned a unique value using the \"auto()\" function.']]]"
      ]
     },
     "execution_count": 14,
     "metadata": {},
     "output_type": "execute_result"
    }
   ],
   "source": [
    "query = \"What roles can the role attribute of a class take?\"\n",
    "res = explanations.query(\n",
    "    query_texts=[query],\n",
    "    n_results=10\n",
    ")\n",
    "[r for r in (res['metadatas'], res['documents'])]"
   ]
  },
  {
   "cell_type": "code",
   "execution_count": 49,
   "metadata": {},
   "outputs": [
    {
     "name": "stdout",
     "output_type": "stream",
     "text": [
      "('update_database.py', 'template_upload_pipeline', {'type': 'function'})\n",
      "('template_upload_pipeline', 'chunking_pipeline', {'type': 'function-call'})\n",
      "('template_upload_pipeline', 'embed_pipeline', {'type': 'function-call'})\n",
      "('template_upload_pipeline', 'cot_pipeline', {'type': 'function-call'})\n",
      "('template_upload_pipeline', 'chunking_pipeline_0', {'type': 'EXTERNAL_DEPENDENCY'})\n",
      "('template_upload_pipeline', 'embed_pipeline_0', {'type': 'EXTERNAL_DEPENDENCY'})\n",
      "('template_upload_pipeline', 'cot_pipeline_0', {'type': 'EXTERNAL_DEPENDENCY'})\n"
     ]
    }
   ],
   "source": [
    "for edge in G.edges(data=True):\n",
    "    if 'template_upload_pipeline' in edge:\n",
    "        print(edge)"
   ]
  },
  {
   "cell_type": "code",
   "execution_count": 33,
   "metadata": {},
   "outputs": [],
   "source": [
    "# store the output connections, what comes out and where it coes in (a train of events). How the functions are being called."
   ]
  },
  {
   "cell_type": "code",
   "execution_count": 50,
   "metadata": {},
   "outputs": [
    {
     "name": "stdout",
     "output_type": "stream",
     "text": [
      "('chunker.py', 'chunking_pipeline', {'type': 'function'})\n",
      "('chunking_pipeline', 'open_files', {'type': 'function-call'})\n",
      "('chunking_pipeline', 'extract_education_and_experience', {'type': 'function-call'})\n",
      "('chunking_pipeline', 'store_data', {'type': 'function-call'})\n",
      "('chunking_pipeline', 'open_files_0', {'type': 'EXTERNAL_DEPENDENCY'})\n",
      "('chunking_pipeline', 'split_files_1', {'type': 'EXTERNAL_DEPENDENCY'})\n",
      "('chunking_pipeline', 'extract_education_and_experience_0', {'type': 'EXTERNAL_DEPENDENCY'})\n",
      "('chunking_pipeline', 'store_data_0', {'type': 'EXTERNAL_DEPENDENCY'})\n",
      "('template_upload_pipeline', 'chunking_pipeline', {'type': 'function-call'})\n"
     ]
    }
   ],
   "source": [
    "for edge in G.edges(data=True):\n",
    "    if 'chunking_pipeline' in edge:\n",
    "        print(edge)"
   ]
  },
  {
   "cell_type": "code",
   "execution_count": null,
   "metadata": {},
   "outputs": [],
   "source": []
  }
 ],
 "metadata": {
  "kernelspec": {
   "display_name": "venv",
   "language": "python",
   "name": "python3"
  },
  "language_info": {
   "codemirror_mode": {
    "name": "ipython",
    "version": 3
   },
   "file_extension": ".py",
   "mimetype": "text/x-python",
   "name": "python",
   "nbconvert_exporter": "python",
   "pygments_lexer": "ipython3",
   "version": "3.11.5"
  }
 },
 "nbformat": 4,
 "nbformat_minor": 2
}
