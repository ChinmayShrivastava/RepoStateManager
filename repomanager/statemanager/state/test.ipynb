{
 "cells": [
  {
   "cell_type": "code",
   "execution_count": 149,
   "metadata": {},
   "outputs": [
    {
     "name": "stdout",
     "output_type": "stream",
     "text": [
      "Graph with 166 nodes and 214 edges\n"
     ]
    }
   ],
   "source": [
    "import pickle\n",
    "G = pickle.load(open('6d079cb1-2f98-4aac-9204-5f70e3196621/state_0.pkl', 'rb'))\n",
    "print(G)"
   ]
  },
  {
   "cell_type": "code",
   "execution_count": 159,
   "metadata": {},
   "outputs": [
    {
     "name": "stdout",
     "output_type": "stream",
     "text": [
      "['get_embedding', 'embed.py', 'save_embeddings', 'vector_search', 'UNKNOWN_8', 'UNKNOWN_9', 'UNKNOWN_14', 'search.py']\n"
     ]
    }
   ],
   "source": [
    "import networkx as nx\n",
    "\n",
    "dfs_tree = nx.dfs_tree(G, 'get_embedding')\n",
    "print(dfs_tree.nodes())"
   ]
  },
  {
   "cell_type": "code",
   "execution_count": 150,
   "metadata": {},
   "outputs": [],
   "source": [
    "def unknown_triplet_generator(G):\n",
    "    \"\"\"\n",
    "    Generates the triplets for the unknown nodes\n",
    "    \"\"\"\n",
    "    # get the edges if the type of the edge is 'UNKNOWN'\n",
    "    edges = G.edges(data=True)\n",
    "    for edge in edges:\n",
    "        if edge[2]['type'] == 'UNKNOWN':\n",
    "            yield edge[0], 'UNKNOWN', edge[1]"
   ]
  },
  {
   "cell_type": "code",
   "execution_count": 153,
   "metadata": {},
   "outputs": [
    {
     "data": {
      "text/plain": [
       "('get_embedding', 'UNKNOWN', 'UNKNOWN_8')"
      ]
     },
     "execution_count": 153,
     "metadata": {},
     "output_type": "execute_result"
    }
   ],
   "source": [
    "unk = unknown_triplet_generator(G)\n",
    "next(unk)"
   ]
  },
  {
   "cell_type": "code",
   "execution_count": null,
   "metadata": {},
   "outputs": [],
   "source": []
  }
 ],
 "metadata": {
  "kernelspec": {
   "display_name": "venv",
   "language": "python",
   "name": "python3"
  },
  "language_info": {
   "codemirror_mode": {
    "name": "ipython",
    "version": 3
   },
   "file_extension": ".py",
   "mimetype": "text/x-python",
   "name": "python",
   "nbconvert_exporter": "python",
   "pygments_lexer": "ipython3",
   "version": "3.11.5"
  }
 },
 "nbformat": 4,
 "nbformat_minor": 2
}
