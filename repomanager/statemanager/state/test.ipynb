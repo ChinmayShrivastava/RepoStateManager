{
 "cells": [
  {
   "cell_type": "code",
   "execution_count": 91,
   "metadata": {},
   "outputs": [
    {
     "name": "stdout",
     "output_type": "stream",
     "text": [
      "DiGraph with 143 nodes and 186 edges\n"
     ]
    }
   ],
   "source": [
    "import pickle\n",
    "G = pickle.load(open('bf16a3a0-75de-4ac5-9ff2-e2f25edf4ba4/state_0.pkl', 'rb'))\n",
    "print(G)"
   ]
  },
  {
   "cell_type": "code",
   "execution_count": 93,
   "metadata": {},
   "outputs": [
    {
     "name": "stdout",
     "output_type": "stream",
     "text": [
      "{'imports_directly', 'function-call', 'imports_from', 'root-to-dir', 'is_a_submodule_of', 'EXTERNAL_DEPENDENCY', 'function', 'REQUIRED_TYPE', 'UNKNOWN'}\n"
     ]
    }
   ],
   "source": [
    "# print all the unique edge types\n",
    "edge_types = set()\n",
    "for edge in G.edges(data=True):\n",
    "    edge_types.add(edge[2]['type'])\n",
    "print(edge_types)"
   ]
  },
  {
   "cell_type": "code",
   "execution_count": 100,
   "metadata": {},
   "outputs": [
    {
     "name": "stdout",
     "output_type": "stream",
     "text": [
      "('embed.py', 'function', 'get_embedding')\n",
      "('embed.py', 'function', 'open_data_json')\n",
      "('embed.py', 'function', 'save_embeddings')\n",
      "('embed.py', 'function', 'embed_pipeline')\n",
      "('chunker.py', 'function', 'extract_education_and_experience')\n",
      "('chunker.py', 'function', 'open_files')\n",
      "('chunker.py', 'function', 'store_data')\n",
      "('chunker.py', 'function', 'chunking_pipeline')\n",
      "('chunker.py', 'function', 'final_chunks')\n",
      "('chunker.py', 'function', 'split_files')\n",
      "('update_database.py', 'function', 'template_upload_pipeline')\n",
      "('agents.py', 'function', 'create_thread')\n",
      "('agents.py', 'function', 'get_response')\n",
      "('agents.py', 'function', 'create_assistant')\n",
      "('agents.py', 'function', 'add_files')\n",
      "('agents.py', 'function', 'get_run')\n",
      "('agents.py', 'function', 'add_message')\n",
      "('agents.py', 'function', 'run_assistant')\n",
      "('search.py', 'function', 'open_data_json')\n",
      "('search.py', 'function', 'cosine_similarity')\n",
      "('search.py', 'function', 'open_embeddings_json')\n",
      "('search.py', 'function', 'vector_search')\n",
      "('dfs.py', 'function', 'create_cot')\n",
      "('dfs.py', 'function', 'open_data_json')\n",
      "('dfs.py', 'function', 'cot_pipeline')\n"
     ]
    }
   ],
   "source": [
    "edges = G.edges(data=True)\n",
    "for edge in edges:\n",
    "    print((edge[0], edge[2]['type'], edge[1])) if edge[2]['type'] == 'function' else None"
   ]
  },
  {
   "cell_type": "code",
   "execution_count": null,
   "metadata": {},
   "outputs": [],
   "source": []
  }
 ],
 "metadata": {
  "kernelspec": {
   "display_name": "venv",
   "language": "python",
   "name": "python3"
  },
  "language_info": {
   "codemirror_mode": {
    "name": "ipython",
    "version": 3
   },
   "file_extension": ".py",
   "mimetype": "text/x-python",
   "name": "python",
   "nbconvert_exporter": "python",
   "pygments_lexer": "ipython3",
   "version": "3.11.5"
  }
 },
 "nbformat": 4,
 "nbformat_minor": 2
}
