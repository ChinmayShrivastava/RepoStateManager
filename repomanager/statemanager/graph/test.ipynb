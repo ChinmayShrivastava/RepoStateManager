{
 "cells": [
  {
   "cell_type": "code",
   "execution_count": 1,
   "metadata": {},
   "outputs": [],
   "source": [
    "from neo4j import GraphDatabase\n",
    "\n",
    "driver = GraphDatabase.driver(\"bolt://159.65.186.215:7687\", auth=(\"neo4j\", \"iuF0niFJr8dfEVMH0VfktDs3j3O07Wl84ygY5CMP0f26MOF2Mi\"))"
   ]
  },
  {
   "cell_type": "code",
   "execution_count": 8,
   "metadata": {},
   "outputs": [
    {
     "name": "stdout",
     "output_type": "stream",
     "text": [
      "16207\n"
     ]
    }
   ],
   "source": [
    "# print the total number of nodes in the graph\n",
    "def print_total_nodes(tx):\n",
    "    result = tx.run(\"MATCH (n) RETURN count(n)\")\n",
    "    for record in result:\n",
    "        print(record[\"count(n)\"])\n",
    "\n",
    "print_total_nodes(driver.session())"
   ]
  },
  {
   "cell_type": "code",
   "execution_count": 9,
   "metadata": {},
   "outputs": [
    {
     "name": "stdout",
     "output_type": "stream",
     "text": [
      "36362\n"
     ]
    }
   ],
   "source": [
    "# print the total number of edges in the graph\n",
    "def print_total_edges(tx):\n",
    "    result = tx.run(\"MATCH ()-[r]->() RETURN count(r)\")\n",
    "    for record in result:\n",
    "        print(record[\"count(r)\"])\n",
    "\n",
    "print_total_edges(driver.session())"
   ]
  },
  {
   "cell_type": "code",
   "execution_count": 13,
   "metadata": {},
   "outputs": [
    {
     "name": "stdout",
     "output_type": "stream",
     "text": [
      "elementname @@llama_index@@agent@@types!!class!!0!!BaseAgent.py\n",
      "code class BaseAgent(BaseChatEngine, BaseQueryEngine):\n",
      "    \"\"\"Base Agent.\"\"\"\n",
      "\n",
      "Method Goes Here -> Method name is '_get_prompts'\n",
      "\n",
      "Method Goes Here -> Method name is '_get_prompt_modules'\n",
      "\n",
      "Method Goes Here -> Method name is '_update_prompts'\n",
      "\n",
      "    # ===== Query Engine Interface =====\n",
      "    @trace_method(\"query\")\n",
      "Method Goes Here -> Method name is '_query'\n",
      "\n",
      "    @trace_method(\"query\")\n",
      "    async def _aquery(self, query_bundle: QueryBundle) -> RESPONSE_TYPE:\n",
      "        agent_response = await self.achat(\n",
      "            query_bundle.query_str,\n",
      "            chat_history=[],\n",
      "        )\n",
      "        return Response(\n",
      "            response=str(agent_response), source_nodes=agent_response.source_nodes\n",
      "        )\n",
      "\n",
      "Method Goes Here -> Method name is 'stream_chat'\n",
      "\n",
      "    async def astream_chat(\n",
      "        self, message: str, chat_history: Optional[List[ChatMessage]] = None\n",
      "    ) -> StreamingAgentChatResponse:\n",
      "        raise NotImplementedError(\"astream_chat not implemented\")\n",
      "\n",
      "name BaseAgent\n",
      "index 0\n",
      "type class\n",
      "explanation The code snippet defines a class called BaseAgent that inherits from two other classes, BaseChatEngine and BaseQueryEngine. It contains several methods, including _get_prompts, _get_prompt_modules, _update_prompts, _query, and stream_chat. \n",
      "\n",
      "The _aquery method is an asynchronous method that takes in a QueryBundle object and returns a RESPONSE_TYPE object. It uses the achat method to generate a response based on the query string in the QueryBundle object and an empty chat history. The response is then returned as a Response object.\n",
      "\n",
      "The astream_chat method is also an asynchronous method, but it raises a NotImplementedError, indicating that it is not implemented in this class.\n"
     ]
    }
   ],
   "source": [
    "# get the info on BaseAgent node name\n",
    "def print_base_agent(tx):\n",
    "    result = tx.run(\"MATCH (n) WHERE n.name='BaseAgent' RETURN n\")\n",
    "    for record in result:\n",
    "        for key in record[\"n\"]:\n",
    "            print(key, record[\"n\"][key])\n",
    "\n",
    "print_base_agent(driver.session())"
   ]
  },
  {
   "cell_type": "code",
   "execution_count": 2,
   "metadata": {},
   "outputs": [],
   "source": [
    "with driver.session() as session:\n",
    "    result = session.run(\"MATCH (n)-[r]-(m) WHERE n.name = 'BaseAgent' RETURN n, r, m\")\n",
    "\n",
    "    for record in result:\n",
    "        n_properties = record['n']\n",
    "        # print the element name\n",
    "\n",
    "    # for record in result:\n",
    "    #     print(record[\"n\"])\n",
    "    #     # print all the items in a dictionary\n",
    "    #     for item in record[\"n\"]:\n",
    "    #         print(item, \":\", record[\"n\"][item])"
   ]
  },
  {
   "cell_type": "code",
   "execution_count": 1,
   "metadata": {},
   "outputs": [],
   "source": [
    "from _graph import Neo4JGraph\n",
    "\n",
    "graph = Neo4JGraph.from_url(\"bolt://localhost:7687\", auth=(\"neo4j\", \"neo4j\"))"
   ]
  },
  {
   "cell_type": "code",
   "execution_count": 4,
   "metadata": {},
   "outputs": [
    {
     "data": {
      "text/plain": [
       "ReturnedEdges(edges=[ReturnedEdge(start_node='BaseAgent', end_node='types.py', metadata={'type': 'class'}), ReturnedEdge(start_node='BaseAgent', end_node='BaseOpenAIAgent', metadata={'type': 'parent_class'}), ReturnedEdge(start_node='BaseAgent', end_node='base.py', metadata={'type': 'imports_directly'}), ReturnedEdge(start_node='BaseAgent', end_node='agent_utils.py', metadata={'type': 'imports_directly'}), ReturnedEdge(start_node='BaseAgent', end_node='main.py', metadata={'type': 'imports_directly'}), ReturnedEdge(start_node='BaseAgent', end_node='OpenAIAssistantAgent', metadata={'type': 'parent_class'}), ReturnedEdge(start_node='BaseAgent', end_node='openai_assistant_agent.py', metadata={'type': 'imports_directly'}), ReturnedEdge(start_node='BaseAgent', end_node='openai_agent.py', metadata={'type': 'imports_directly'}), ReturnedEdge(start_node='BaseAgent', end_node='ReActAgent', metadata={'type': 'parent_class'}), ReturnedEdge(start_node='BaseAgent', end_node='BaseAgentRunner', metadata={'type': 'parent_class'}), ReturnedEdge(start_node='BaseAgent', end_node='BaseChatEngine', metadata={'type': 'parent_class'}), ReturnedEdge(start_node='BaseAgent', end_node='_get_prompts', metadata={'type': 'class-method'}), ReturnedEdge(start_node='BaseAgent', end_node='_get_prompt_modules', metadata={'type': 'class-method'}), ReturnedEdge(start_node='BaseAgent', end_node='_update_prompts', metadata={'type': 'class-method'}), ReturnedEdge(start_node='BaseAgent', end_node='_query', metadata={'type': 'class-method'}), ReturnedEdge(start_node='BaseAgent', end_node='stream_chat', metadata={'type': 'class-method'}), ReturnedEdge(start_node='BaseAgent', end_node='trace_method', metadata={'type': 'function-call'}), ReturnedEdge(start_node='BaseAgent', end_node='Response', metadata={'type': 'function-call'}), ReturnedEdge(start_node='BaseAgent', end_node='chat', metadata={'type': 'class-instance'}), ReturnedEdge(start_node='BaseAgent', end_node='RESPONSE_TYPE', metadata={'type': 'EXTERNAL_DEPENDENCY'}), ReturnedEdge(start_node='BaseAgent', end_node='METHOD', metadata={'type': '_update_prompts'}), ReturnedEdge(start_node='BaseAgent', end_node='BaseChatEngine_2', metadata={'type': 'REQUIRED_TYPE'}), ReturnedEdge(start_node='BaseAgent', end_node='List_31', metadata={'type': 'EXTERNAL_DEPENDENCY'}), ReturnedEdge(start_node='BaseAgent', end_node='NotImplementedError_0', metadata={'type': 'EXTERNAL_DEPENDENCY'}), ReturnedEdge(start_node='BaseAgent', end_node='METHOD_0', metadata={'type': '_get_prompts'}), ReturnedEdge(start_node='BaseAgent', end_node='self', metadata={'type': 'EXTERNAL_DEPENDENCY'}), ReturnedEdge(start_node='BaseAgent', end_node='METHOD_1', metadata={'type': '_get_prompt_modules'}), ReturnedEdge(start_node='BaseAgent', end_node='ChatMessage_10', metadata={'type': 'EXTERNAL_DEPENDENCY'}), ReturnedEdge(start_node='BaseAgent', end_node='StreamingAgentChatResponse_0', metadata={'type': 'EXTERNAL_DEPENDENCY'}), ReturnedEdge(start_node='BaseAgent', end_node='str_200', metadata={'type': 'EXTERNAL_DEPENDENCY'}), ReturnedEdge(start_node='BaseAgent', end_node='Optional_20', metadata={'type': 'EXTERNAL_DEPENDENCY'}), ReturnedEdge(start_node='BaseAgent', end_node='Response_3', metadata={'type': 'EXTERNAL_DEPENDENCY'}), ReturnedEdge(start_node='BaseAgent', end_node='METHOD_2', metadata={'type': '_query'}), ReturnedEdge(start_node='BaseAgent', end_node='BaseQueryEngine_2', metadata={'type': 'REQUIRED_TYPE'}), ReturnedEdge(start_node='BaseAgent', end_node='QueryBundle_6', metadata={'type': 'EXTERNAL_DEPENDENCY'}), ReturnedEdge(start_node='BaseAgent', end_node='RESPONSE_TYPE_0', metadata={'type': 'EXTERNAL_DEPENDENCY'}), ReturnedEdge(start_node='BaseAgent', end_node='METHOD_3', metadata={'type': '_update_prompts'}), ReturnedEdge(start_node='BaseAgent', end_node='BaseChatEngine_3', metadata={'type': 'REQUIRED_TYPE'}), ReturnedEdge(start_node='BaseAgent', end_node='List_32', metadata={'type': 'EXTERNAL_DEPENDENCY'}), ReturnedEdge(start_node='BaseAgent', end_node='NotImplementedError_1', metadata={'type': 'EXTERNAL_DEPENDENCY'}), ReturnedEdge(start_node='BaseAgent', end_node='METHOD_4', metadata={'type': '_get_prompts'}), ReturnedEdge(start_node='BaseAgent', end_node='self_0', metadata={'type': 'EXTERNAL_DEPENDENCY'}), ReturnedEdge(start_node='BaseAgent', end_node='METHOD_5', metadata={'type': '_get_prompt_modules'}), ReturnedEdge(start_node='BaseAgent', end_node='ChatMessage_11', metadata={'type': 'EXTERNAL_DEPENDENCY'}), ReturnedEdge(start_node='BaseAgent', end_node='StreamingAgentChatResponse_1', metadata={'type': 'EXTERNAL_DEPENDENCY'}), ReturnedEdge(start_node='BaseAgent', end_node='str_201', metadata={'type': 'EXTERNAL_DEPENDENCY'}), ReturnedEdge(start_node='BaseAgent', end_node='Optional_21', metadata={'type': 'EXTERNAL_DEPENDENCY'}), ReturnedEdge(start_node='BaseAgent', end_node='Response_4', metadata={'type': 'EXTERNAL_DEPENDENCY'}), ReturnedEdge(start_node='BaseAgent', end_node='METHOD_6', metadata={'type': '_query'}), ReturnedEdge(start_node='BaseAgent', end_node='BaseQueryEngine_3', metadata={'type': 'REQUIRED_TYPE'}), ReturnedEdge(start_node='BaseAgent', end_node='QueryBundle_7', metadata={'type': 'EXTERNAL_DEPENDENCY'})])"
      ]
     },
     "execution_count": 4,
     "metadata": {},
     "output_type": "execute_result"
    }
   ],
   "source": [
    "graph.get_adjacent_edges(\"BaseAgent\")"
   ]
  },
  {
   "cell_type": "code",
   "execution_count": 5,
   "metadata": {},
   "outputs": [
    {
     "data": {
      "text/plain": [
       "{'elementname': '@@llama_index@@agent@@types!!class!!0!!BaseAgent.py',\n",
       " 'code': 'class BaseAgent(BaseChatEngine, BaseQueryEngine):\\n    \"\"\"Base Agent.\"\"\"\\n\\nMethod Goes Here -> Method name is \\'_get_prompts\\'\\n\\nMethod Goes Here -> Method name is \\'_get_prompt_modules\\'\\n\\nMethod Goes Here -> Method name is \\'_update_prompts\\'\\n\\n    # ===== Query Engine Interface =====\\n    @trace_method(\"query\")\\nMethod Goes Here -> Method name is \\'_query\\'\\n\\n    @trace_method(\"query\")\\n    async def _aquery(self, query_bundle: QueryBundle) -> RESPONSE_TYPE:\\n        agent_response = await self.achat(\\n            query_bundle.query_str,\\n            chat_history=[],\\n        )\\n        return Response(\\n            response=str(agent_response), source_nodes=agent_response.source_nodes\\n        )\\n\\nMethod Goes Here -> Method name is \\'stream_chat\\'\\n\\n    async def astream_chat(\\n        self, message: str, chat_history: Optional[List[ChatMessage]] = None\\n    ) -> StreamingAgentChatResponse:\\n        raise NotImplementedError(\"astream_chat not implemented\")\\n',\n",
       " 'name': 'BaseAgent',\n",
       " 'index': '0',\n",
       " 'type': 'class',\n",
       " 'explanation': 'The code snippet defines a class called BaseAgent that inherits from two other classes, BaseChatEngine and BaseQueryEngine. It contains several methods, including _get_prompts, _get_prompt_modules, _update_prompts, _query, and stream_chat. \\n\\nThe _aquery method is an asynchronous method that takes in a QueryBundle object and returns a RESPONSE_TYPE object. It uses the achat method to generate a response based on the query string in the QueryBundle object and an empty chat history. The response is then returned as a Response object.\\n\\nThe astream_chat method is also an asynchronous method, but it raises a NotImplementedError, indicating that it is not implemented in this class.'}"
      ]
     },
     "execution_count": 5,
     "metadata": {},
     "output_type": "execute_result"
    }
   ],
   "source": [
    "graph.get_node_metadata(\"BaseAgent\")"
   ]
  },
  {
   "cell_type": "code",
   "execution_count": 6,
   "metadata": {},
   "outputs": [
    {
     "data": {
      "text/plain": [
       "'class BaseAgent(BaseChatEngine, BaseQueryEngine):\\n    \"\"\"Base Agent.\"\"\"\\n\\nMethod Goes Here -> Method name is \\'_get_prompts\\'\\n\\nMethod Goes Here -> Method name is \\'_get_prompt_modules\\'\\n\\nMethod Goes Here -> Method name is \\'_update_prompts\\'\\n\\n    # ===== Query Engine Interface =====\\n    @trace_method(\"query\")\\nMethod Goes Here -> Method name is \\'_query\\'\\n\\n    @trace_method(\"query\")\\n    async def _aquery(self, query_bundle: QueryBundle) -> RESPONSE_TYPE:\\n        agent_response = await self.achat(\\n            query_bundle.query_str,\\n            chat_history=[],\\n        )\\n        return Response(\\n            response=str(agent_response), source_nodes=agent_response.source_nodes\\n        )\\n\\nMethod Goes Here -> Method name is \\'stream_chat\\'\\n\\n    async def astream_chat(\\n        self, message: str, chat_history: Optional[List[ChatMessage]] = None\\n    ) -> StreamingAgentChatResponse:\\n        raise NotImplementedError(\"astream_chat not implemented\")\\n'"
      ]
     },
     "execution_count": 6,
     "metadata": {},
     "output_type": "execute_result"
    }
   ],
   "source": [
    "graph.get_code({\"name\":\"BaseAgent\",\"type\":\"class\"}, '@@llama_index@@agent@@types!!class!!0!!BaseAgent.py')"
   ]
  },
  {
   "cell_type": "code",
   "execution_count": 2,
   "metadata": {},
   "outputs": [
    {
     "data": {
      "text/plain": [
       "([('OpenAIAgent', 'get_tools', {'type': 'class-method'}),\n",
       "  ('OpenAIAgent', 'from_tools', {'type': 'class-method'}),\n",
       "  ('OpenAIAgent', '__init__', {'type': 'class-method'}),\n",
       "  ('BaseOpenAIAgent', '__init__', {'type': 'class-method'}),\n",
       "  ('BaseOpenAIAgent', 'chat_history', {'type': 'class-method'}),\n",
       "  ('BaseOpenAIAgent', 'all_messages', {'type': 'class-method'}),\n",
       "  ('BaseOpenAIAgent', 'latest_function_call', {'type': 'class-method'}),\n",
       "  ('BaseOpenAIAgent', 'latest_tool_calls', {'type': 'class-method'}),\n",
       "  ('BaseOpenAIAgent', 'reset', {'type': 'class-method'}),\n",
       "  ('BaseOpenAIAgent', 'get_tools', {'type': 'class-method'}),\n",
       "  ('BaseOpenAIAgent', '_should_continue', {'type': 'class-method'}),\n",
       "  ('BaseOpenAIAgent', 'init_chat', {'type': 'class-method'}),\n",
       "  ('BaseOpenAIAgent', '_process_message', {'type': 'class-method'}),\n",
       "  ('BaseOpenAIAgent', '_get_stream_ai_response', {'type': 'class-method'}),\n",
       "  ('BaseOpenAIAgent', '_call_function', {'type': 'class-method'}),\n",
       "  ('BaseOpenAIAgent', '_get_llm_chat_kwargs', {'type': 'class-method'}),\n",
       "  ('BaseOpenAIAgent', '_get_agent_response', {'type': 'class-method'}),\n",
       "  ('BaseOpenAIAgent', '_chat', {'type': 'class-method'}),\n",
       "  ('BaseOpenAIAgent', 'chat', {'type': 'class-method'}),\n",
       "  ('BaseOpenAIAgent', 'stream_chat', {'type': 'class-method'}),\n",
       "  ('AgentRunner', 'undo_step', {'type': 'class-method'}),\n",
       "  ('AgentRunner', 'stream_chat', {'type': 'class-method'}),\n",
       "  ('AgentRunner', 'chat', {'type': 'class-method'}),\n",
       "  ('AgentRunner', '_chat', {'type': 'class-method'}),\n",
       "  ('AgentRunner', 'finalize_response', {'type': 'class-method'}),\n",
       "  ('AgentRunner', 'stream_step', {'type': 'class-method'}),\n",
       "  ('AgentRunner', 'run_step', {'type': 'class-method'}),\n",
       "  ('AgentRunner', '_run_step', {'type': 'class-method'}),\n",
       "  ('AgentRunner', 'get_completed_steps', {'type': 'class-method'}),\n",
       "  ('AgentRunner', 'get_upcoming_steps', {'type': 'class-method'}),\n",
       "  ('AgentRunner', 'get_task', {'type': 'class-method'}),\n",
       "  ('AgentRunner', 'list_tasks', {'type': 'class-method'}),\n",
       "  ('AgentRunner', 'delete_task', {'type': 'class-method'}),\n",
       "  ('AgentRunner', 'create_task', {'type': 'class-method'}),\n",
       "  ('AgentRunner', 'reset', {'type': 'class-method'}),\n",
       "  ('AgentRunner', 'chat_history', {'type': 'class-method'}),\n",
       "  ('AgentRunner', '__init__', {'type': 'class-method'})],\n",
       " set())"
      ]
     },
     "execution_count": 2,
     "metadata": {},
     "output_type": "execute_result"
    }
   ],
   "source": [
    "graph.get_methods({\"name\":\"OpenAIAgent\",\"type\":\"class\"})"
   ]
  },
  {
   "cell_type": "code",
   "execution_count": 2,
   "metadata": {},
   "outputs": [
    {
     "ename": "NameError",
     "evalue": "name 'driver' is not defined",
     "output_type": "error",
     "traceback": [
      "\u001b[0;31m---------------------------------------------------------------------------\u001b[0m",
      "\u001b[0;31mNameError\u001b[0m                                 Traceback (most recent call last)",
      "Cell \u001b[0;32mIn[2], line 6\u001b[0m\n\u001b[1;32m      1\u001b[0m query \u001b[38;5;241m=\u001b[39m (\n\u001b[1;32m      2\u001b[0m     \u001b[38;5;124mf\u001b[39m\u001b[38;5;124m\"\u001b[39m\u001b[38;5;124mMATCH (n)-[r]->(m)-[r2]->(o) WHERE n.name = \u001b[39m\u001b[38;5;124m'\u001b[39m\u001b[38;5;124mOpenAIAgent\u001b[39m\u001b[38;5;124m'\u001b[39m\u001b[38;5;124m AND r.type = \u001b[39m\u001b[38;5;124m'\u001b[39m\u001b[38;5;124mparent_class\u001b[39m\u001b[38;5;124m'\u001b[39m\u001b[38;5;124m AND r2.type = \u001b[39m\u001b[38;5;124m'\u001b[39m\u001b[38;5;124mclass-method\u001b[39m\u001b[38;5;124m'\u001b[39m\u001b[38;5;124m RETURN n, r, m, r2, o\u001b[39m\u001b[38;5;124m\"\u001b[39m\n\u001b[1;32m      3\u001b[0m     )\n\u001b[1;32m      5\u001b[0m methods_indirect \u001b[38;5;241m=\u001b[39m []\n\u001b[0;32m----> 6\u001b[0m \u001b[38;5;28;01mwith\u001b[39;00m \u001b[43mdriver\u001b[49m\u001b[38;5;241m.\u001b[39msession() \u001b[38;5;28;01mas\u001b[39;00m session:\n\u001b[1;32m      7\u001b[0m     result \u001b[38;5;241m=\u001b[39m session\u001b[38;5;241m.\u001b[39mrun(query)\n\u001b[1;32m      9\u001b[0m     \u001b[38;5;28;01mfor\u001b[39;00m record \u001b[38;5;129;01min\u001b[39;00m result:\n",
      "\u001b[0;31mNameError\u001b[0m: name 'driver' is not defined"
     ]
    }
   ],
   "source": [
    "query = (\n",
    "    f\"MATCH (n)-[r]->(m)-[r2]->(o) WHERE n.name = 'OpenAIAgent' AND r.type = 'parent_class' AND r2.type = 'class-method' RETURN n, r, m, r2, o\"\n",
    "    )\n",
    "\n",
    "methods_indirect = []\n",
    "with driver.session() as session:\n",
    "    result = session.run(query)\n",
    "\n",
    "    for record in result:\n",
    "        startnode = record['m']['name']\n",
    "        endnode = record['o']['name']\n",
    "        metadata = {\n",
    "            item: record['r2'][item]\n",
    "            for item in record['r2'].keys()\n",
    "        }\n",
    "        methods_indirect.append((startnode, endnode, metadata))\n",
    "\n",
    "len(methods_indirect)"
   ]
  },
  {
   "cell_type": "code",
   "execution_count": null,
   "metadata": {},
   "outputs": [],
   "source": []
  }
 ],
 "metadata": {
  "kernelspec": {
   "display_name": "venv",
   "language": "python",
   "name": "python3"
  },
  "language_info": {
   "codemirror_mode": {
    "name": "ipython",
    "version": 3
   },
   "file_extension": ".py",
   "mimetype": "text/x-python",
   "name": "python",
   "nbconvert_exporter": "python",
   "pygments_lexer": "ipython3",
   "version": "3.11.5"
  }
 },
 "nbformat": 4,
 "nbformat_minor": 2
}
