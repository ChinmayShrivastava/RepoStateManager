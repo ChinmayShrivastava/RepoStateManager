{
 "cells": [
  {
   "cell_type": "code",
   "execution_count": 1,
   "metadata": {},
   "outputs": [
    {
     "name": "stdout",
     "output_type": "stream",
     "text": [
      "/Users/chinmayshrivastava/Documents/GitHub/RepoStateManager\n"
     ]
    }
   ],
   "source": [
    "import sys\n",
    "import os\n",
    "\n",
    "# moce two directories up and make that current directory\n",
    "os.chdir(\"../..\")\n",
    "# print current directory\n",
    "print(os.getcwd())"
   ]
  },
  {
   "cell_type": "code",
   "execution_count": 2,
   "metadata": {},
   "outputs": [
    {
     "name": "stderr",
     "output_type": "stream",
     "text": [
      "/Users/chinmayshrivastava/Documents/GitHub/RepoStateManager/venv/lib/python3.11/site-packages/tqdm/auto.py:21: TqdmWarning: IProgress not found. Please update jupyter and ipywidgets. See https://ipywidgets.readthedocs.io/en/stable/user_install.html\n",
      "  from .autonotebook import tqdm as notebook_tqdm\n"
     ]
    }
   ],
   "source": [
    "from transformers import BeitImageProcessor, BeitForMaskedImageModeling\n",
    "import torch\n",
    "from PIL import Image"
   ]
  },
  {
   "cell_type": "code",
   "execution_count": 3,
   "metadata": {},
   "outputs": [],
   "source": [
    "image = Image.open('tests/LayoutAnalysis/testimage.png').convert('RGB')"
   ]
  },
  {
   "cell_type": "code",
   "execution_count": 4,
   "metadata": {},
   "outputs": [
    {
     "name": "stderr",
     "output_type": "stream",
     "text": [
      "/Users/chinmayshrivastava/Documents/GitHub/RepoStateManager/venv/lib/python3.11/site-packages/transformers/models/beit/image_processing_beit.py:110: FutureWarning: The `reduce_labels` parameter is deprecated and will be removed in a future version. Please use `do_reduce_labels` instead.\n",
      "  warnings.warn(\n",
      "/Users/chinmayshrivastava/Documents/GitHub/RepoStateManager/venv/lib/python3.11/site-packages/torch/_utils.py:831: UserWarning: TypedStorage is deprecated. It will be removed in the future and UntypedStorage will be the only storage class. This should only matter to you if you are using storages directly.  To access UntypedStorage directly, use tensor.untyped_storage() instead of tensor.storage()\n",
      "  return self.fget.__get__(instance, owner)()\n"
     ]
    }
   ],
   "source": [
    "processor = BeitImageProcessor.from_pretrained(\"microsoft/dit-large\")\n",
    "model = BeitForMaskedImageModeling.from_pretrained(\"microsoft/dit-large\")\n",
    "\n",
    "num_patches = (model.config.image_size // model.config.patch_size) ** 2\n",
    "pixel_values = processor(images=image, return_tensors=\"pt\").pixel_values\n",
    "# create random boolean mask of shape (batch_size, num_patches)\n",
    "bool_masked_pos = torch.randint(low=0, high=2, size=(1, num_patches)).bool()"
   ]
  },
  {
   "cell_type": "code",
   "execution_count": 5,
   "metadata": {},
   "outputs": [],
   "source": [
    "outputs = model(pixel_values, bool_masked_pos=bool_masked_pos)\n",
    "loss, logits = outputs.loss, outputs.logits"
   ]
  },
  {
   "cell_type": "code",
   "execution_count": 6,
   "metadata": {},
   "outputs": [
    {
     "data": {
      "text/plain": [
       "dict_keys(['loss', 'logits', 'hidden_states', 'attentions'])"
      ]
     },
     "execution_count": 6,
     "metadata": {},
     "output_type": "execute_result"
    }
   ],
   "source": [
    "outputs.__dict__.keys()"
   ]
  },
  {
   "cell_type": "code",
   "execution_count": 6,
   "metadata": {},
   "outputs": [
    {
     "data": {
      "text/plain": [
       "MaskedLMOutput(loss=None, logits=tensor([[[-2.2292, -0.8189, -1.8319,  ..., -2.3554, -7.1658, -4.4531],\n",
       "         [-3.6786,  2.8921,  0.1778,  ..., -2.7646, -4.8025, -2.0717],\n",
       "         [-2.8232, -1.0928, -1.0393,  ..., -4.7206, -4.2741, -3.4600],\n",
       "         ...,\n",
       "         [-2.8232, -1.0928, -1.0393,  ..., -4.7206, -4.2741, -3.4600],\n",
       "         [-2.8232, -1.0928, -1.0393,  ..., -4.7206, -4.2741, -3.4600],\n",
       "         [-5.2593, -3.2461, -3.2294,  ..., -4.7179, -7.4076, -6.9522]]],\n",
       "       grad_fn=<ViewBackward0>), hidden_states=None, attentions=None)"
      ]
     },
     "execution_count": 6,
     "metadata": {},
     "output_type": "execute_result"
    }
   ],
   "source": [
    "outputs"
   ]
  },
  {
   "cell_type": "code",
   "execution_count": 7,
   "metadata": {},
   "outputs": [
    {
     "data": {
      "text/plain": [
       "torch.Size([1, 196, 8192])"
      ]
     },
     "execution_count": 7,
     "metadata": {},
     "output_type": "execute_result"
    }
   ],
   "source": [
    "logits.shape"
   ]
  },
  {
   "cell_type": "code",
   "execution_count": 9,
   "metadata": {},
   "outputs": [
    {
     "ename": "AttributeError",
     "evalue": "'BeitImageProcessor' object has no attribute 'get_patch_coordinates'",
     "output_type": "error",
     "traceback": [
      "\u001b[0;31m---------------------------------------------------------------------------\u001b[0m",
      "\u001b[0;31mAttributeError\u001b[0m                            Traceback (most recent call last)",
      "Cell \u001b[0;32mIn[9], line 16\u001b[0m\n\u001b[1;32m     13\u001b[0m unmasked_patch_index \u001b[38;5;241m=\u001b[39m np\u001b[38;5;241m.\u001b[39margmin(logits[\u001b[38;5;241m0\u001b[39m, \u001b[38;5;241m~\u001b[39mbool_masked_pos])\n\u001b[1;32m     15\u001b[0m \u001b[38;5;66;03m# get the coordinates of the patches\u001b[39;00m\n\u001b[0;32m---> 16\u001b[0m patch_coord \u001b[38;5;241m=\u001b[39m \u001b[43mprocessor\u001b[49m\u001b[38;5;241;43m.\u001b[39;49m\u001b[43mget_patch_coordinates\u001b[49m(image_size\u001b[38;5;241m=\u001b[39mimage\u001b[38;5;241m.\u001b[39msize[\u001b[38;5;241m0\u001b[39m], patch_size\u001b[38;5;241m=\u001b[39mmodel\u001b[38;5;241m.\u001b[39mconfig\u001b[38;5;241m.\u001b[39mpatch_size)\n\u001b[1;32m     17\u001b[0m masked_patch_coord \u001b[38;5;241m=\u001b[39m patch_coord[bool_masked_pos]\n\u001b[1;32m     18\u001b[0m unmasked_patch_coord \u001b[38;5;241m=\u001b[39m patch_coord[\u001b[38;5;241m~\u001b[39mbool_masked_pos]\n",
      "\u001b[0;31mAttributeError\u001b[0m: 'BeitImageProcessor' object has no attribute 'get_patch_coordinates'"
     ]
    }
   ],
   "source": [
    "# visualize the image with the identified mask\n",
    "import matplotlib.pyplot as plt\n",
    "import matplotlib.patches as patches\n",
    "import numpy as np\n",
    "\n",
    "# reshape logits and mask\n",
    "logits = logits.detach().cpu().numpy()\n",
    "bool_masked_pos = bool_masked_pos[0].detach().cpu().numpy()\n",
    "\n",
    "# get the index of the most probable masked patch\n",
    "masked_patch_index = np.argmax(logits[0, bool_masked_pos])\n",
    "# get the index of the least probable masked patch\n",
    "unmasked_patch_index = np.argmin(logits[0, ~bool_masked_pos])\n",
    "\n",
    "# get the coordinates of the patches\n",
    "patch_coord = processor.get_patch_coordinates(image_size=image.size[0], patch_size=model.config.patch_size)\n",
    "masked_patch_coord = patch_coord[bool_masked_pos]\n",
    "unmasked_patch_coord = patch_coord[~bool_masked_pos]\n",
    "\n",
    "# plot the image\n",
    "fig, ax = plt.subplots(1)\n",
    "ax.imshow(image)\n",
    "# plot the masked patch in red\n",
    "rect = patches.Rectangle(\n",
    "    masked_patch_coord[masked_patch_index], model.config.patch_size, model.config.patch_size, linewidth=1, edgecolor=\"r\", facecolor=\"none\"\n",
    ")\n",
    "ax.add_patch(rect)\n",
    "# plot the unmasked patch in green\n",
    "rect = patches.Rectangle(\n",
    "    unmasked_patch_coord[unmasked_patch_index], model.config.patch_size, model.config.patch_size, linewidth=1, edgecolor=\"g\", facecolor=\"none\"\n",
    ")\n",
    "ax.add_patch(rect)\n",
    "plt.show()"
   ]
  },
  {
   "cell_type": "code",
   "execution_count": null,
   "metadata": {},
   "outputs": [],
   "source": []
  }
 ],
 "metadata": {
  "kernelspec": {
   "display_name": "venv",
   "language": "python",
   "name": "python3"
  },
  "language_info": {
   "codemirror_mode": {
    "name": "ipython",
    "version": 3
   },
   "file_extension": ".py",
   "mimetype": "text/x-python",
   "name": "python",
   "nbconvert_exporter": "python",
   "pygments_lexer": "ipython3",
   "version": "3.11.5"
  }
 },
 "nbformat": 4,
 "nbformat_minor": 2
}
