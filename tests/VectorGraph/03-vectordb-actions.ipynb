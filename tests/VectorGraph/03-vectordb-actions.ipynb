{
 "cells": [
  {
   "cell_type": "code",
   "execution_count": 1,
   "metadata": {},
   "outputs": [
    {
     "name": "stdout",
     "output_type": "stream",
     "text": [
      "/Users/chinmayshrivastava/Documents/GitHub/RepoStateManager\n"
     ]
    }
   ],
   "source": [
    "import sys\n",
    "import os\n",
    "\n",
    "# move two directories up and make that current directory\n",
    "os.chdir(\"../..\")\n",
    "# print current directory\n",
    "print(os.getcwd())"
   ]
  },
  {
   "cell_type": "code",
   "execution_count": 2,
   "metadata": {},
   "outputs": [
    {
     "name": "stderr",
     "output_type": "stream",
     "text": [
      "INFO:modules.vectorgraph.VectorGraph:Loading graph from persisting directory\n",
      "INFO:chromadb.telemetry.product.posthog:Anonymized telemetry enabled. See                     https://docs.trychroma.com/telemetry for more information.\n",
      "INFO:modules.vectorgraph.VectorGraph:Graph loaded from deliverables/FMGlobal/index\n",
      "INFO:modules.vectorgraph.VectorGraph:Vector index loaded from deliverables/FMGlobal/index\n"
     ]
    }
   ],
   "source": [
    "from modules.vectorgraph.VectorGraph import VectorGraph\n",
    "\n",
    "vg = VectorGraph.from_persisting_dir(\n",
    "    persisting_dir=\"deliverables/FMGlobal/index\",\n",
    ")"
   ]
  },
  {
   "cell_type": "code",
   "execution_count": 3,
   "metadata": {},
   "outputs": [
    {
     "name": "stderr",
     "output_type": "stream",
     "text": [
      "INFO:httpx:HTTP Request: POST https://api.openai.com/v1/embeddings \"HTTP/1.1 200 OK\"\n"
     ]
    },
    {
     "data": {
      "text/plain": [
       "{'results': [{'similarity': 0.8316984176635742,\n",
       "   'document': 'poor housekeeping leads to excessive fire spread',\n",
       "   'id': 4770,\n",
       "   'metadata': {'id': '4770'}},\n",
       "  {'similarity': 0.8316342118796097,\n",
       "   'document': 'poor housekeeping can lead to excessive fire spread',\n",
       "   'id': 5176,\n",
       "   'metadata': {'id': '5176'}},\n",
       "  {'similarity': 0.8099222068192665,\n",
       "   'document': 'many loss prevention principles compromised in warehouse fire',\n",
       "   'id': 5170,\n",
       "   'metadata': {'id': '5170'}},\n",
       "  {'similarity': 0.8097048997879028,\n",
       "   'document': 'many loss prevention principles compromised in warehouse fire',\n",
       "   'id': 4765,\n",
       "   'metadata': {'id': '4765'}},\n",
       "  {'similarity': 0.7979109863470747,\n",
       "   'document': 'lack of in-rack sprinklers for racks with solid shelves resulted in extensive fire damage',\n",
       "   'id': 5174,\n",
       "   'metadata': {'id': '5174'}}]}"
      ]
     },
     "execution_count": 3,
     "metadata": {},
     "output_type": "execute_result"
    }
   ],
   "source": [
    "vg.top_k('what are the most common causes of fire in the US?', k=5)"
   ]
  },
  {
   "cell_type": "code",
   "execution_count": 8,
   "metadata": {},
   "outputs": [
    {
     "name": "stderr",
     "output_type": "stream",
     "text": [
      "INFO:httpx:HTTP Request: POST https://api.openai.com/v1/embeddings \"HTTP/1.1 200 OK\"\n"
     ]
    },
    {
     "data": {
      "text/plain": [
       "['55\\n2.3.6.4 Protection of Class 1, 2, 3, 4, Cartoned Plastics and Uncartoned Unexpanded\\nPlastics in Single and Double-Row Racks Using a Combination of Longitudinal\\nIn-Rack Sprinklers and Horizontal Barriers ............................................................... 56\\n2.3.6.5 Protection of Class 1, 2, 3, 4 and Unexpanded Plastics in Open-Frame Storage\\nRacks Under Ceilings up to 45 ft (13.5 m) High Using K14.0 (K200) and Larger,\\nQuick-Response, Pendent Ceiling-level Sprinklers ................................................... 57\\n2.3.6.6 Alternative In-Rack Sprinkler Designs ....................................................................... 57\\n2.3.6.7 Retrofit In-Rack Sprinkler Protection Solution for Uncartoned Plastics Currently\\nProtected by In-Rack Sprinklers Only in the Longitudinal Flue Space Only ............ 61\\n2.3.6.8 K25.2EC (K360EC) Pendent In-Rack Sprinkler Protection of Class 1, 2, 3, 4 and\\nCartoned\\nUnexpanded Plastics in Open-Frame Racks in Combination with\\nHorizontal Barriers ..................................................................................................... 64\\n3.0 SUPPORT FOR RECOMMENDATIONS ............................................................................................. 67\\n3.1\\nGeneral .......................................................................................................................................... 67\\n3.2 Loss History ................................................................................................................................... 67\\n3.3 Illustrative Losses .......................................................................................................................... 68\\n3.3.1 RollClothinRacksObstructFlueSpaces,ResultinginExtensiveFireandWaterDamage .',\n",
       " 'In freezers, or other areas subject to freezing, consider the number, location, and arrangement of hose\\nstations.\\n2.3.6 Special Applications\\n2.3.6.1 Ceiling-Only Sprinkler Protection for Class 1, 2 and 3 Commodities Protected by Dry-Pipe\\nand Similar Sprinkler Systems for Ceiling Heights Over 30 ft (9.0 m)\\nIn addition to the protection design guidelines in Tables 2 and 7 for the protection of Class 1, 2, and 3\\ncommodities by ceiling-level sprinklers on dry-pipe and similar sprinkler systems in storage areas having a\\nmaximum ceiling height of 30 ft (9.0 m) in Table 2 and 7, ceiling-level protection without the need for in-rack\\nsprinklers is also available for these commodities for ceiling heights over 30 ft (9.0 m) and up to 55 ft\\n(16.5 m) high in accordance with this section.\\n2.3.6.1.1 Acceptable storage arrangements include solid-piled, palletized, shelf, bin-box, and open-framed\\nracks. Note that push-back type flow-through racks do not qualify as open frame racks for this protection\\nguidance.\\n2.3.6.1.2 Use FM Approved, upright, standard-response ceiling-level Storage sprinklers having a nominal\\ntemperature rating of 280°F (140°C) on a tree-type dry-pipe or similar sprinkler system. Dry-pipe, non-\\ninterlocked pre-action and single-interlock pre-action sprinkler systems are acceptable for ambient\\ntemperaturesthatwillnotdropbelow16°F(-9°C).Forambienttemperaturesthatcandropbelow16°F(-9°C)\\ninstall sprinklers only on a refrigerated area sprinkler system that is in accordance with both Data Sheet 2-0,\\nInstallation Guidelines for Automatic Sprinklers , and Data Sheet 8-29, Refrigerated Storage .',\n",
       " '2.3.3.1.2 In addition to the guidelines outlined in Section 2.3.3.1.1, see Section 2.3.6 for any special\\napplications that might be applicable for the commodity hazard and storage arrangement to be protected.\\n2.3.3.1.3 Follow the guidelines in Data Sheet 2-0, Installation Guidelines for Automatic Sprinklers , for the\\ninstallation of ceiling-level Storage sprinklers.\\n2.3.3.2 K-Factors, Nominal Temperature Rating, RTI Rating, and the Orientation of Ceiling-Level\\nStorage Sprinklers\\n2.3.3.2.1 Use only FM Approved sprinklers listed in the Approval Guide under the heading of Storage\\nSprinklers (Ceiling-Level) for any ceiling-level sprinkler options in this data sheet.\\nCurrently, FM Approved ceiling-level Storage sprinklers have K-factor values ranging from 11.2 (160) to\\n33.6 (480). See Appendix A for a definition of K-factor as well as the units used for its indicated value.\\nNote that the following sprinklers are not FM Approved as ceiling-level Storage sprinklers:\\n•K8.0 (K115) and smaller\\n•On-Off type sprinklers\\n•ECLH type sprinklers\\n•ECOH type sprinklers\\n2.3.3.2.2 Unless indicated otherwise in this data sheet, use 160°F (70°C) nominal temperature rated,\\nceiling-level sprinklers in sprinkler systems that can be treated as wet-pipe. Use 212°F (100°C) nominal\\ntemperature rated ceiling-level sprinklers when the ambient temperature will exceed 100°F (38°C). When\\n212°F (100°C) rated sprinklers are required due to ambient temperature conditions, treat their presence the\\nsame as 160°F (70°C) rated sprinklers for design purposes. See Appendix A for a definition of nominal\\ntemperature rating as well as the temperature ranges each nominal value represents.\\n2.3.3.2.3 Unless indicated otherwise in this data sheet, use 280°F (140°C) nominal temperature rated\\nceiling-level sprinklers in dry-pipe, refrigerated area, or equivalent type systems.',\n",
       " '2.3.4.8.1 Design Guidelines for In-Rack Sprinklers\\n2.3.4.8.1.1 Design in-rack sprinkler systems per in Table 12.\\n2.3.4.8.1.2 Balance the in-rack sprinkler system water demand with the ceiling-level sprinkler water demand\\nat the point where the two systems are connected.\\n2.3.4.8.1.3 Unless indicated otherwise, ensure the minimum operating pressure of the in-rack sprinklers is\\n7 psi (0.5 bar).\\nTable 12. Hydraulic Design for In-Rack Sprinkler Systems\\nCommodity HazardStorage Height Above\\nTop Level of IRAS, ft\\n(m)No. of Installed IRAS\\nLevelsIRAS Design, No. of\\nSprinklersIRAS Design, Min.\\nFlow per Sprinkler,\\ngpm (L/min)\\nClass 1-3 ≤10 (3.0) 1 6 22 (85)\\n2 or more 10 (5 on 2 levels) 22 (85)\\nClass 4 and Plastics ≤10 (3.0) 1 8 30 (115)\\n2 or more 14 (7 on 2 levels) 30 (115)8-9 Storage of Class 1, 2, 3, 4 and Plastic Commodities\\nPage 46 FM Global Property Loss Prevention Data Sheets\\n©2010-2018 Factory Mutual Insurance Company. All rights reserved.',\n",
       " 'March 2010\\nInterim\\nRevision July 2018\\nPage 1 of 87\\nSTORAGE OF CLASS 1, 2, 3, 4 AND PLASTIC COMMODITIES\\nTable of Contents\\nPage\\n1.0 SCOPE . 5\\n1.1\\nChanges . 5\\n1.2 Superseded Information . 5\\n1.3 How to Use This Data Sheet . 6\\n2.0 LOSS PREVENTION RECOMMENDATIONS . 9\\n2.1\\nConstruction and Location . 9\\n2.1.1 General . 9\\n2.1.2 Steel Column Protection . 9\\n2.1.3 Heat and Smoke Venting and Draft Curtains . 9\\n2.1.3.1 Heat and Smoke Venting . 9\\n2.1.3.2 Draft Curtains . 9\\n2.2 Occupancy . 9\\n2.2.1 General . 9\\n2.2.2 Commodity Hazard . 10\\n2.2.3 Flue Spaces . 10\\n2.2.3.1 Flue Spaces for Rack Storage Protected by Ceiling-Level Sprinklers Only . 10\\n2.2.3.2 Flue Spaces for Rack Storage Protected by both Ceiling-Level and In-Rack\\nSprinklers . 10\\n2.2.3.3 Solid-Piled, Palletized, Shelf, and Bin-Box Storage . 11\\n2.2.4 Pallets . 11\\n2.2.5 Special Storage Considerations . 11\\n2.2.5.1 Open-Top Containers Maintained in Storage Racks . 11\\n2.2.5.2 Portable Racks . 12\\n2.2.5.3 Movable Racks . 13\\n2.2.6 Clearance Between Top of Storage and Ceiling-Level Sprinkler Deflector . 13\\n2.3 Protection . 13\\n2.3.1 General . 13\\n2.3.2 Sprinkler System Types . 13\\n2.3.3 Ceiling-Level Storage Sprinklers . 14\\n2.3.3.1 General . 14\\n2.3.3.2 K-Factors, Nominal Temperature Rating, RTI Rating,',\n",
       " '2.5.2 Portable Racks . 12\\n2.2.5.3 Movable Racks . 13\\n2.2.6 Clearance Between Top of Storage and Ceiling-Level Sprinkler Deflector . 13\\n2.3 Protection . 13\\n2.3.1 General . 13\\n2.3.2 Sprinkler System Types . 13\\n2.3.3 Ceiling-Level Storage Sprinklers . 14\\n2.3.3.1 General . 14\\n2.3.3.2 K-Factors, Nominal Temperature Rating, RTI Rating, and the Orientation of\\nCeiling-Level Storage Sprinklers . 14\\n2.3.3.3 Spacing of Ceiling-Level Storage Sprinklers . 15\\n2.3.3.4 Minimum Recommended Pressures for Ceiling-Level Storage Sprinklers . 15\\n2.3.3.5 Extension of Hydraulic Design . 15\\n2.3.3.6 MixingDifferentCeiling-LevelStorageSprinklersWithintheSameProtectedArea . 15\\n2.3.3.7 Ceiling-Level Sprinkler System Design Criteria ...................................................... 16\\n2.3.4 In-Rack Sprinklers (IRAS) ................................................................................................... 28\\n2.3.4.1 General ..................................................................................................................... 28\\n2.3.4.2 When In-Rack Sprinklers are Needed ..................................................................... 29\\n2.3.4.3 K-Factors, Nominal Temperature Rating, and RTI Rating of In-Rack Storage\\nSprinklers ................................................................................................................. 31\\n2.3.4.4 In-Rack Sprinkler System Types ............................................................................. 31\\n2.3.4.5 General Guidelines for Positioning of In-Rack Sprinklers ....................................... 31\\n2.3.4.6 Horizontal Lay-Outs of In-Rack Sprinklers .............................................................. 31\\n2.3.4.7 Vertical Increments of In-Rack Sprinklers ............................................................... 44FM Global\\nProperty Loss Prevention Data Sheets 8-9\\n©2010-2018FactoryMutualInsuranceCompany.Allrightsreserved.',\n",
       " 'Follow□recs.□in□Section□2.3.2□to\\ndetermine□the□type□of□sprinkler\\nsystem□(wet□or□dry).\\nBased□on□the□type□of□storage□rack\\nprovided,□see□the□applicable\\nflowchart□from□Figures□4□through□7\\nto□determine□the□horizontal\\nin-rack□sprinkler□lay□outs.\\nSee□the□flowchart□in□Figure□15□to\\ndetermine□the□recommended\\nvertical□increments□for□the□in-rack\\nsprinkler□lay□outs.\\nWill□there□be\\nmore□than□20□ft□(6.0□m)\\nclearance□between□the□top□of\\nstorage□and□the\\nceiling?Based□on\\nthe□flowchart□in□Fig.□3\\nare□in-rack□sprinklers\\nrecommended?\\nSee Table□12□in□Section□2.3.4.8.1□to\\ndetermine□the□recommended□design\\nof□the□proposed□in-rack□sprinkler\\nsystem.',\n",
       " '2.3.6.8.5.2.3 The minimum vertical clearance between the top of storage and the in-rack sprinkler deflector\\nis\\n9 in. (225 mm).\\n2.3.6.8.6 In-Rack Sprinkler System Design\\n2.3.6.8.6.1 In-Rack Sprinkler System Design: Minimum Required Flow\\nUse a minimum flow of 160 gpm (605 L/min) from the hydraulically most remote in-rack sprinkler.\\n2.3.6.8.6.2 In-Rack Sprinkler System Design: Minimum Number of Operating In-Rack Sprinklers\\nSee Table 17a to determine the minimum number of in-rack sprinklers to be included in the in-rack sprinkler\\ndesign. These in-rack sprinklers are all on the single most hydraulically remote tier level that is provided\\nwith in-rack sprinkler protection.\\nTable 17a. Minimum Number of K25.2EC (K360EC) Pendent In-Rack Sprinklers Included in the In-Rack Sprinkler Design\\nRack Type Rack Depth, ft (m) Aisle Width, ft (m) No.',\n",
       " '2.3.4.8 Design Guidelines for Ceiling-Level and In-Rack Sprinklers .................................. 46\\n2.3.4.9\\nDesign Guidelines for Fire Protection Scheme 8-9A .............................................. 47\\n2.3.5 Hose Demands, Hose Connections, and System Duration ................................................ 51\\n2.3.5.1 Hose Demand and System Duration ...................................................................... 51\\n2.3.5.2 Hose Connections ................................................................................................... 52\\n2.3.6 Special Applications ............................................................................................................ 52\\n2.3.6.1 Ceiling-Only Sprinkler Protection for Class 1, 2 and 3 Commodities Protected by\\nDry-Pipe and Similar Sprinkler Systems for Ceiling Heights Over 30 ft (9.0 m) ..... 52\\n2.3.6.2 Retail/Big-Box Warehouse Occupancies ................................................................. 55\\n2.3.6.3 Protection of Class 1, 2, 3, 4 and Cartoned Plastics in Open-Frame Single and\\nDouble-Row Racks Using In-Rack Sprinklers Only in the Longitudinal Flue Space .',\n",
       " 'See Section 2.3.2.5 to determine how many open remote ceiling-level sprinklers to use for the purpose of\\ncalculating\\nthe maximum water delivery time.\\n2.3.6.1.5 To achieve the maximum water delivery time indicated above in Tables 14a and 14b, experience\\ntodatehasdemonstratedthatthesizeofthesprinklersystemwillneedtobelimitedtoapproximately12,000\\nft2(1,110 m2). Validate the maximum water delivery time before the start of any work by submitting copies\\nof all plans, calculations, water supply details, and equipment details to the local FM Global service office for\\ncomputer analysis. Specific details needed for this evaluation include:\\na) Manufacturer and model designation for the dry-pipe or pre-action valve\\nb) Manufacturer and model designation for the dry-pilot actuator, as well as response characteristics,\\nincluding performance criteria that relates actuation time to air pressure setting and static water pressure\\nc) Air pressure to be maintained within the sprinkler piping\\nNote that all FM Approved pre-action and refrigerated-area sprinkler systems must be provided with all trim\\nand accessories included as part of theApproval package. Contact the local FM Global service office before\\nsending the information.\\n2.3.6.1.6 Handle all other plan review details through normal procedures as described in Data Sheet 2-0,\\nInstallation Guidelines for Automatic Sprinklers .\\n2.3.6.2 Retail/Big-Box Warehouse Occupancies\\nRetail/big-box warehouse occupancies typically have full or partial pallet loads in the top tiers of the racks.\\nThesepalletloadsarebrokendownasneededtoreplenishindividualstockitemsinthelowertiers.Lowertiers\\nhave slatted or solid shelving, while upper tiers may have slatted, wire mesh, or open shelving. Rack\\narrangements with certain combinations of slatted, wire mesh, or open shelves that do not qualify as rack\\nstorage with open shelves as described in Appendix A can nevertheless be protected as rack storage with\\nopen shelves if they meet the conditions described in Sections 2.3.6.2.1 and 2.3.6.2.2.\\n2.3.6.2.1.',\n",
       " 'Fig. 3. Flowchart for evaluating the need for in-rack sprinklersWill the storage racks\\nmeet the requirements\\nto be open-frame?*\\nIn-rack sprinklers \\nare not needed.In-rack sprinklers \\nwill be needed.In-rack sprinklers \\nwill be needed.In-rack sprinklers \\nwill be needed.\\nIn-rack sprinklers \\nare not needed.\\nIn-rack sprinklers \\nwill be needed.In-rack sprinklers \\nwill be needed.In-rack sprinklers \\nwill be needed.\\nWill the \\navailable water\\nsupply be able to meet\\nthe flow and pressure\\ndemand of a ceiling-\\nonly protection \\noption?Will \\nthe storage \\nbe maintained \\nin open-top \\ncontainers?Will \\nthe commodity\\nhazard be Class 1 - 4 \\nor cartoned \\nplastics?Will the \\navailable water\\nsupply be able to meet \\nthe flow and pressure \\ndemand of a ceiling-\\nonly protection \\noption?\\nWill the \\navailable water\\nsupply be able to meet \\nthe flow and pressure \\ndemand of a ceiling-\\nonly protection \\noption?Will the \\nstorage height\\nbe greater than 15 ft\\n(4.5 m)?Will the \\nstorage height\\nbe greater than 10 ft\\n(3.0 m)?\\n*See the definition for open-frame rack in Appendix A. \\nSee guidelines regarding open-top containers if they are present.NoNo\\nNoNoNo No\\nNo No NoNo\\nNoYes\\nYesYes\\nYes\\nYesYes\\nYes\\nYesYesYes\\nYes\\nAre \\nthere any ceiling- \\nonly options from the \\napplicable ceiling-level rack \\nstorage protection\\ntable?Will \\nthe storage\\nracks have solid shelves\\ngreater than 64 ft2 \\n(6.0 m2) in \\narea?Will \\nthe maximum\\nceiling height be over\\n30 ft (9.0 m)?8-9 Storage of Class 1, 2, 3, 4 and Plastic Commodities\\nPage 30 FM Global Property Loss Prevention Data Sheets\\n©2010-2018 Factory Mutual Insurance Company. All rights reserved.']"
      ]
     },
     "execution_count": 8,
     "metadata": {},
     "output_type": "execute_result"
    }
   ],
   "source": [
    "vg.query('sprinkler rating', top_k=20)"
   ]
  },
  {
   "cell_type": "code",
   "execution_count": null,
   "metadata": {},
   "outputs": [],
   "source": []
  }
 ],
 "metadata": {
  "kernelspec": {
   "display_name": "venv",
   "language": "python",
   "name": "python3"
  },
  "language_info": {
   "codemirror_mode": {
    "name": "ipython",
    "version": 3
   },
   "file_extension": ".py",
   "mimetype": "text/x-python",
   "name": "python",
   "nbconvert_exporter": "python",
   "pygments_lexer": "ipython3",
   "version": "3.11.5"
  }
 },
 "nbformat": 4,
 "nbformat_minor": 2
}
