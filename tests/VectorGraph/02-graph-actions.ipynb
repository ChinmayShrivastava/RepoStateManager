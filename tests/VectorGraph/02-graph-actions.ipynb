{
 "cells": [
  {
   "cell_type": "code",
   "execution_count": 1,
   "metadata": {},
   "outputs": [
    {
     "name": "stdout",
     "output_type": "stream",
     "text": [
      "/Users/chinmayshrivastava/Documents/GitHub/RepoStateManager\n"
     ]
    }
   ],
   "source": [
    "import sys\n",
    "import os\n",
    "\n",
    "# move two directories up and make that current directory\n",
    "os.chdir(\"../..\")\n",
    "# print current directory\n",
    "print(os.getcwd())"
   ]
  },
  {
   "cell_type": "code",
   "execution_count": 2,
   "metadata": {},
   "outputs": [
    {
     "name": "stderr",
     "output_type": "stream",
     "text": [
      "INFO:modules.vectorgraph.VectorGraph:Loading graph from persisting directory\n",
      "INFO:chromadb.telemetry.product.posthog:Anonymized telemetry enabled. See                     https://docs.trychroma.com/telemetry for more information.\n",
      "INFO:modules.vectorgraph.VectorGraph:Graph loaded from deliverables/FMGlobal/index\n",
      "INFO:modules.vectorgraph.VectorGraph:Vector index loaded from deliverables/FMGlobal/index\n"
     ]
    }
   ],
   "source": [
    "from modules.vectorgraph.VectorGraph import VectorGraph\n",
    "\n",
    "vg = VectorGraph.from_persisting_dir(\n",
    "    persisting_dir=\"deliverables/FMGlobal/index\",\n",
    ")"
   ]
  },
  {
   "cell_type": "code",
   "execution_count": 3,
   "metadata": {},
   "outputs": [
    {
     "name": "stdout",
     "output_type": "stream",
     "text": [
      "VectorGraph with 5201 nodes and 9321 edges.\n",
      "Total vector elements: 483\n"
     ]
    }
   ],
   "source": [
    "print(vg)"
   ]
  },
  {
   "cell_type": "code",
   "execution_count": 4,
   "metadata": {},
   "outputs": [
    {
     "data": {
      "text/plain": [
       "{'type': 'table',\n",
       " 'value': 'Storage of Class 1, 2, 3, 4 and Plastic Commodities\\n8-9\\nFM Global Property Loss Prevention Data Sheets\\nPage 7',\n",
       " 'col_no': 2,\n",
       " 'row_no': 1}"
      ]
     },
     "execution_count": 4,
     "metadata": {},
     "output_type": "execute_result"
    }
   ],
   "source": [
    "vg._get_node_by_id(0)"
   ]
  },
  {
   "cell_type": "code",
   "execution_count": 5,
   "metadata": {},
   "outputs": [
    {
     "name": "stdout",
     "output_type": "stream",
     "text": [
      "[0, 3, 92, 335, 578, 821, 1086, 1373, 1638, 1881, 2135, 2422, 2709, 2761, 2847, 3001, 3027, 3173, 3202, 3315, 3412, 3418, 3425, 3428, 3444, 3450, 3456, 3481, 3502, 3521, 3550, 3567, 3576, 3609]\n"
     ]
    }
   ],
   "source": [
    "print(vg._get_nodes_of_type('table'))"
   ]
  },
  {
   "cell_type": "code",
   "execution_count": 4,
   "metadata": {},
   "outputs": [
    {
     "data": {
      "text/plain": [
       "[({'type': 'insight',\n",
       "   'value': 'poor housekeeping leads to excessive fire spread'},\n",
       "  {'type': 'identifier', 'value': '3.3.7'},\n",
       "  {'type': 'insight_from'})]"
      ]
     },
     "execution_count": 4,
     "metadata": {},
     "output_type": "execute_result"
    }
   ],
   "source": [
    "rel_map = vg._get_rel_map(4770)\n",
    "rel_map"
   ]
  },
  {
   "cell_type": "code",
   "execution_count": 3,
   "metadata": {},
   "outputs": [
    {
     "data": {
      "text/plain": [
       "(3700, 0)"
      ]
     },
     "execution_count": 3,
     "metadata": {},
     "output_type": "execute_result"
    }
   ],
   "source": [
    "vg._get_closest_identifier(4770)"
   ]
  },
  {
   "cell_type": "code",
   "execution_count": null,
   "metadata": {},
   "outputs": [],
   "source": []
  }
 ],
 "metadata": {
  "kernelspec": {
   "display_name": "venv",
   "language": "python",
   "name": "python3"
  },
  "language_info": {
   "codemirror_mode": {
    "name": "ipython",
    "version": 3
   },
   "file_extension": ".py",
   "mimetype": "text/x-python",
   "name": "python",
   "nbconvert_exporter": "python",
   "pygments_lexer": "ipython3",
   "version": "3.11.5"
  }
 },
 "nbformat": 4,
 "nbformat_minor": 2
}
