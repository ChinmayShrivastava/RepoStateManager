{
 "cells": [
  {
   "cell_type": "code",
   "execution_count": 1,
   "metadata": {},
   "outputs": [
    {
     "name": "stdout",
     "output_type": "stream",
     "text": [
      "/Users/chinmayshrivastava/Documents/GitHub/RepoStateManager\n"
     ]
    }
   ],
   "source": [
    "import sys\n",
    "import os\n",
    "\n",
    "# moce two directories up and make that current directory\n",
    "os.chdir(\"../..\")\n",
    "# print current directory\n",
    "print(os.getcwd())"
   ]
  },
  {
   "cell_type": "code",
   "execution_count": 2,
   "metadata": {},
   "outputs": [
    {
     "name": "stderr",
     "output_type": "stream",
     "text": [
      "/Users/chinmayshrivastava/Documents/GitHub/RepoStateManager/venv/lib/python3.11/site-packages/tqdm/auto.py:21: TqdmWarning: IProgress not found. Please update jupyter and ipywidgets. See https://ipywidgets.readthedocs.io/en/stable/user_install.html\n",
      "  from .autonotebook import tqdm as notebook_tqdm\n",
      "  0%|          | 0/1 [00:00<?, ?it/s]INFO:root:ImageReader initialized.\n",
      "INFO:root:torch.Size([1, 3, 800, 618])\n",
      "INFO:root:ImageReader transformed.\n",
      "100%|██████████| 1/1 [00:00<00:00, 16.77it/s]\n",
      "INFO:root:PDFParser initialized.\n",
      "INFO:root:TextTableReader initialized.\n",
      "INFO:root:Dataframe2Graph initialized.\n",
      "INFO:root:subtables: [0, 1, 2, 3, 4, 5, 6, 7]\n",
      "INFO:root:subtables: [0, 1, 2, 3, 4, 5, 6, 7]\n",
      "INFO:root:subtables: [0, 1, 2, 3, 4, 5, 6, 7]\n",
      "INFO:root:subtables: [0, 1, 2, 3, 4, 5, 6, 7]\n",
      "INFO:root:subtables: [0, 1, 2, 3, 4, 5, 6, 7]\n",
      "INFO:root:subtables: [0, 1, 2, 3, 4, 5, 6, 7]\n",
      "INFO:root:subtables: [0, 1, 2, 3, 4, 5, 6, 7]\n",
      "INFO:root:subtables: [0, 1, 2, 3, 4, 5, 6, 7]\n",
      "INFO:root:subtables: [0, 1, 2, 3, 4, 5, 6, 7]\n",
      "INFO:root:subtables: [0, 1, 2, 3, 4, 5, 6, 7]\n",
      "INFO:root:subtables: [0, 1, 2, 3, 4, 5, 6, 7]\n"
     ]
    },
    {
     "name": "stdout",
     "output_type": "stream",
     "text": [
      "col_tracker shape: (11, 8)\n"
     ]
    },
    {
     "name": "stderr",
     "output_type": "stream",
     "text": [
      "INFO:root:Extracted all data from tests/TableTransformer/test1.pdf.\n"
     ]
    }
   ],
   "source": [
    "from modules.index.DocumentContext import DocumentContext\n",
    "\n",
    "dc = DocumentContext.from_pdf_path(\n",
    "    pdf_path=\"tests/TableTransformer/test1.pdf\",\n",
    "    persist_dir=\"tests/DocumentContext/storage\"\n",
    ")"
   ]
  },
  {
   "cell_type": "code",
   "execution_count": 3,
   "metadata": {},
   "outputs": [
    {
     "name": "stdout",
     "output_type": "stream",
     "text": [
      "DocumentContext with 3 chunks.\n",
      "Graph has 89 nodes and 165 edges.\n"
     ]
    }
   ],
   "source": [
    "print(dc)"
   ]
  },
  {
   "cell_type": "code",
   "execution_count": 4,
   "metadata": {},
   "outputs": [
    {
     "data": {
      "text/plain": [
       "[{'text': '2.3.3.2.7 Use dry-pendent ceiling-level sprinklers in wet-pipe or anti-freeze solution systems only. Design\\nand installation requirements for dry-pendent sprinklers are based on those for a wet system using\\nceiling-level sprinklers having the same K-factor, RTI rating, sprinkler spacing coverage and temperature\\nrating as the dry-pendent sprinkler.\\n2.3.3.3 Spacing of Ceiling-Level Storage Sprinklers\\n2.3.3.3.1 Install ceiling-level Storage sprinklers under unobstructed ceiling construction in accordance with\\nthe linear and area spacing guidelines in Table 1, unless indicated otherwise in this data sheet. See Data\\nSheet 2-0, Installation Guidelines for Automatic Sprinklers , for ceiling-level sprinkler spacing guidelines under\\nobstructed ceiling construction.\\nTable 1. Spacing of Ceiling-Level Storage Sprinklers Under Unobstructed Ceiling Construction\\nCeiling\\nHeight,\\nft (m)Sprinkler\\nK-FactorSprinkler\\nOrientationSprinkler\\nResponseSprinkler Linear Spacing,\\nft (m)Sprinkler Area Spacing,\\nft2(m2)\\nMin. Max. Min. Max.',\n",
       "  'metadata': {'page_no': '1', 'file_type': 'application/pdf', 'chunk_no': 0}},\n",
       " {'text': 'See Data\\nSheet 2-0, Installation Guidelines for Automatic Sprinklers , for ceiling-level sprinkler spacing guidelines under\\nobstructed ceiling construction.\\nTable 1. Spacing of Ceiling-Level Storage Sprinklers Under Unobstructed Ceiling Construction\\nCeiling\\nHeight,\\nft (m)Sprinkler\\nK-FactorSprinkler\\nOrientationSprinkler\\nResponseSprinkler Linear Spacing,\\nft (m)Sprinkler Area Spacing,\\nft2(m2)\\nMin. Max. Min. Max.\\nUp to 30\\n(9.0)11.2 (160) Pendent or\\nUprightQuick or\\nStandard8 (2.4) 12 (3.6) 80 (7.5) 100 (9.0)\\n14.0 (200),\\n16.8 (240),\\n19.6 (280),\\n22.4 (320),\\n25.2 (360),\\n33.6 (480)Pendent Quick or\\nStandard8 (2.4) 12 (3.6) 64 (6.0) 100 (9.0)\\nUpright Quick 8 (2.4) 12 (3.6) 64 (6.0) 100 (9.0)\\nStandard 8 (2.4) 12 (3.6) 80 (7.5) 100 (9.0)\\n25.2EC\\n(360EC)Pendent or\\nUprightQuick 10 (3.0) 14 (4.2) 100 (9.0) 196 (18.0)\\nOver 30\\n(9.0)11.2 (160) Pendent or\\nUprightQuick or\\nStandard8 (2.4) 10 (3.0) 80 (7.5) 100 (9.0)\\n14.0 (200),\\n16.8 (240),\\n19.6 (280),\\n22.4 (320),\\n25.2 (360),\\n33.6 (480)Pendent or\\nUprightQuick 8 (2.4) 10 (3.0) 64 (6.0) 100 (9.0)\\nStandard 8 (2.4) 10 (3.0) 80 (7.5) 100 (9.0)\\n25.2EC\\n(360EC)Pendent or\\nUprightQuick 10 (3.0) 14 (4.2) 100 (9.0) 196 (18.0)\\n2.3.3.4 Minimum Recommended Pressures for Ceiling-Level Storage Sprinklers\\nThe sprinkler system designs in this data sheet for ceiling-level sprinklers are based on an indicated minimum\\noperating pressure for a given sprinkler K-factor.',\n",
       "  'metadata': {'page_no': '1', 'file_type': 'application/pdf', 'chunk_no': 1}},\n",
       " {'text': 'As a result, base the minimum required ceiling-level sprinkler\\npressure on the value indicated in the applicable protection table for the commodity hazard, storage\\narrangement, and ceiling height involved.\\n2.3.3.5 Extension of Hydraulic Design\\nExtend the hydraulic design for storage occupancies at least 15 ft (4.5 m) beyond all edges of the storage,\\nor to a wall, whenever there is mixed-use occupancy. Whenever two adjacent storage occupancies are\\nprotected differently, extend the design for the higher hazard 15 ft (4.5 m) into the lower hazard area.\\n2.3.3.6 Mixing Different Ceiling-Level Storage Sprinklers Within the Same Protected Area\\n2.3.3.6.1 For a sprinkler system protecting a storage occupancy, install ceiling-level Storage sprinklers having\\nthe same K-factor, orientation, response time index (RTI) rating, and temperature rating throughout the\\nsprinkler system, whenever possible.\\n2.3.3.6.2 Do not mix different types of sprinklers (e.g., Storage and Non-Storage sprinklers) on the same\\nceiling-level sprinkler system within the same protected area unless indicated otherwise by this data sheet.\\n2.3.3.6.3 Do not mix sprinklers having different K-factors on the same ceiling-level sprinkler system within\\nthe same protected area unless indicated otherwise by this data sheet.Storage of Class 1, 2, 3, 4 and Plastic Commodities 8-9\\nFM Global Property Loss Prevention Data Sheets Page 15\\n©2010-2018 Factory Mutual Insurance Company. All rights reserved.',\n",
       "  'metadata': {'page_no': '1', 'file_type': 'application/pdf', 'chunk_no': 2}}]"
      ]
     },
     "execution_count": 4,
     "metadata": {},
     "output_type": "execute_result"
    }
   ],
   "source": [
    "dc.chunks"
   ]
  },
  {
   "cell_type": "code",
   "execution_count": 5,
   "metadata": {},
   "outputs": [
    {
     "name": "stderr",
     "output_type": "stream",
     "text": [
      "INFO:root:Adding unique identifiers for chunk 1 out of 3.\n",
      "INFO:httpx:HTTP Request: POST https://api.openai.com/v1/chat/completions \"HTTP/1.1 200 OK\"\n",
      "INFO:root:Adding unique identifiers for chunk 2 out of 3.\n",
      "INFO:httpx:HTTP Request: POST https://api.openai.com/v1/chat/completions \"HTTP/1.1 200 OK\"\n",
      "INFO:root:Adding unique identifiers for chunk 3 out of 3.\n",
      "INFO:httpx:HTTP Request: POST https://api.openai.com/v1/chat/completions \"HTTP/1.1 200 OK\"\n",
      "INFO:root:Added all unique identifiers.\n",
      "INFO:root:Adding citations for chunk 1 out of 3.\n",
      "INFO:httpx:HTTP Request: POST https://api.openai.com/v1/chat/completions \"HTTP/1.1 200 OK\"\n",
      "ERROR:root:Node with value data sheet 2-0 not found in graph.\n",
      "INFO:root:Adding citations for chunk 2 out of 3.\n",
      "INFO:httpx:HTTP Request: POST https://api.openai.com/v1/chat/completions \"HTTP/1.1 200 OK\"\n",
      "ERROR:root:Node with value table 2 not found in graph.\n",
      "ERROR:root:Node with value data sheet not found in graph.\n",
      "INFO:root:Adding citations for chunk 3 out of 3.\n",
      "INFO:httpx:HTTP Request: POST https://api.openai.com/v1/chat/completions \"HTTP/1.1 200 OK\"\n",
      "ERROR:root:Node with value table not found in graph.\n",
      "ERROR:root:Node with value table not found in graph.\n",
      "ERROR:root:Node with value table not found in graph.\n",
      "ERROR:root:Node with value table not found in graph.\n",
      "INFO:root:Added all citations.\n",
      "INFO:root:Adding insights for chunk 1 out of 3.\n",
      "INFO:httpx:HTTP Request: POST https://api.openai.com/v1/chat/completions \"HTTP/1.1 200 OK\"\n",
      "ERROR:root:Node with value Table 1 not found in graph.\n",
      "INFO:root:Adding insights for chunk 2 out of 3.\n",
      "INFO:httpx:HTTP Request: POST https://api.openai.com/v1/chat/completions \"HTTP/1.1 200 OK\"\n",
      "INFO:root:Adding insights for chunk 3 out of 3.\n",
      "INFO:httpx:HTTP Request: POST https://api.openai.com/v1/chat/completions \"HTTP/1.1 200 OK\"\n",
      "INFO:root:Added all insights.\n",
      "INFO:chromadb.telemetry.product.posthog:Anonymized telemetry enabled. See                     https://docs.trychroma.com/telemetry for more information.\n",
      "INFO:httpx:HTTP Request: POST https://api.openai.com/v1/embeddings \"HTTP/1.1 200 OK\"\n",
      "WARNING:chromadb.segment.impl.vector.local_persistent_hnsw:Add of existing embedding ID: 103\n",
      "WARNING:chromadb.segment.impl.vector.local_persistent_hnsw:Add of existing embedding ID: 104\n",
      "WARNING:chromadb.segment.impl.vector.local_persistent_hnsw:Add of existing embedding ID: 105\n",
      "WARNING:chromadb.segment.impl.vector.local_persistent_hnsw:Add of existing embedding ID: 106\n",
      "WARNING:chromadb.segment.impl.vector.local_persistent_hnsw:Add of existing embedding ID: 107\n",
      "WARNING:chromadb.segment.impl.vector.local_persistent_hnsw:Add of existing embedding ID: 108\n",
      "WARNING:chromadb.segment.impl.vector.local_persistent_hnsw:Add of existing embedding ID: 109\n",
      "WARNING:chromadb.segment.impl.vector.local_persistent_hnsw:Add of existing embedding ID: 110\n",
      "WARNING:chromadb.segment.impl.vector.local_persistent_hnsw:Add of existing embedding ID: 103\n",
      "WARNING:chromadb.segment.impl.vector.local_persistent_hnsw:Add of existing embedding ID: 104\n",
      "WARNING:chromadb.segment.impl.vector.local_persistent_hnsw:Add of existing embedding ID: 105\n",
      "WARNING:chromadb.segment.impl.vector.local_persistent_hnsw:Add of existing embedding ID: 106\n",
      "WARNING:chromadb.segment.impl.vector.local_persistent_hnsw:Add of existing embedding ID: 107\n",
      "WARNING:chromadb.segment.impl.vector.local_persistent_hnsw:Add of existing embedding ID: 108\n",
      "WARNING:chromadb.segment.impl.vector.local_persistent_hnsw:Add of existing embedding ID: 109\n",
      "WARNING:chromadb.segment.impl.vector.local_persistent_hnsw:Add of existing embedding ID: 110\n",
      "WARNING:chromadb.segment.impl.metadata.sqlite:Insert of existing embedding ID: 103\n",
      "WARNING:chromadb.segment.impl.metadata.sqlite:Insert of existing embedding ID: 104\n",
      "WARNING:chromadb.segment.impl.metadata.sqlite:Insert of existing embedding ID: 105\n",
      "WARNING:chromadb.segment.impl.metadata.sqlite:Insert of existing embedding ID: 106\n",
      "WARNING:chromadb.segment.impl.metadata.sqlite:Insert of existing embedding ID: 107\n",
      "WARNING:chromadb.segment.impl.metadata.sqlite:Insert of existing embedding ID: 108\n",
      "WARNING:chromadb.segment.impl.metadata.sqlite:Insert of existing embedding ID: 109\n",
      "WARNING:chromadb.segment.impl.metadata.sqlite:Insert of existing embedding ID: 110\n",
      "WARNING:chromadb.segment.impl.vector.local_persistent_hnsw:Add of existing embedding ID: 103\n",
      "WARNING:chromadb.segment.impl.vector.local_persistent_hnsw:Add of existing embedding ID: 104\n",
      "WARNING:chromadb.segment.impl.vector.local_persistent_hnsw:Add of existing embedding ID: 105\n",
      "WARNING:chromadb.segment.impl.vector.local_persistent_hnsw:Add of existing embedding ID: 106\n",
      "WARNING:chromadb.segment.impl.vector.local_persistent_hnsw:Add of existing embedding ID: 107\n",
      "WARNING:chromadb.segment.impl.vector.local_persistent_hnsw:Add of existing embedding ID: 108\n",
      "WARNING:chromadb.segment.impl.vector.local_persistent_hnsw:Add of existing embedding ID: 109\n",
      "WARNING:chromadb.segment.impl.vector.local_persistent_hnsw:Add of existing embedding ID: 110\n",
      "INFO:root:Added vector index.\n",
      "INFO:root:Document context generation complete. Saving...\n",
      "INFO:root:Document context saved in tests/DocumentContext/storage/test1.pdf.\n",
      "INFO:chromadb.telemetry.product.posthog:Anonymized telemetry enabled. See                     https://docs.trychroma.com/telemetry for more information.\n"
     ]
    }
   ],
   "source": [
    "vg = dc.as_vector_graph()"
   ]
  },
  {
   "cell_type": "code",
   "execution_count": 6,
   "metadata": {},
   "outputs": [
    {
     "data": {
      "text/plain": [
       "<modules.vectorgraph.VectorGraph.VectorGraph at 0x17a8f1850>"
      ]
     },
     "execution_count": 6,
     "metadata": {},
     "output_type": "execute_result"
    }
   ],
   "source": [
    "vg"
   ]
  },
  {
   "cell_type": "code",
   "execution_count": 8,
   "metadata": {},
   "outputs": [
    {
     "name": "stdout",
     "output_type": "stream",
     "text": [
      "None\n"
     ]
    }
   ],
   "source": [
    "print(vg.graph)"
   ]
  },
  {
   "cell_type": "code",
   "execution_count": null,
   "metadata": {},
   "outputs": [],
   "source": []
  }
 ],
 "metadata": {
  "kernelspec": {
   "display_name": "venv",
   "language": "python",
   "name": "python3"
  },
  "language_info": {
   "codemirror_mode": {
    "name": "ipython",
    "version": 3
   },
   "file_extension": ".py",
   "mimetype": "text/x-python",
   "name": "python",
   "nbconvert_exporter": "python",
   "pygments_lexer": "ipython3",
   "version": "3.11.5"
  }
 },
 "nbformat": 4,
 "nbformat_minor": 2
}
